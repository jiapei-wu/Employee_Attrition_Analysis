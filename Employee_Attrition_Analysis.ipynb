{
 "cells": [
  {
   "cell_type": "markdown",
   "metadata": {},
   "source": [
    "#### BUDT704 Project:\n",
    "\n",
    "Project Name: What’s the variable?<br>\n",
    "Section: 501<br>\n",
    "Group 2 (Datatrons): Deepthi M Rao, Jia-Pei Wu, Manasa Naragam, Nouman Ali, Praharsh Deep Singh, Vidit Vaywala<br>\n",
    "Date: 5 December 2022"
   ]
  },
  {
   "cell_type": "markdown",
   "metadata": {},
   "source": [
    "# <font color='0D4E7F'> What's the variable? </font>\n",
    "<p style='text-align: justify;'>\n",
    "One's business can prosper in a healthy work environment. And one may ask why this is important. A bare minimum of 40 hours per week which is almost 40.5% of our time goes by in work on a weekly basis. Evidently, a significant portion of our day goes into contributing to work. Which makes it all the more critical that each individual is with the right organization and to their liking. Clearly, this is possible only in an ideal scenario and not in reality where we often see a lot of employees demand a better workplace environment. \n",
    "</p>\n",
    "\n",
    "\n",
    "## <b>Introduction</b>\n",
    "<p style='text-align: justify;'>\n",
    "The rising demand for a better workplace culture has caused more awareness among employees. This may often pose a threat or prove to be a heavy loss to most organizations. It is here where the dataset ‘Employee Attrition’ comes in handy. The employer can take into account various parameters ranging from employee’s date of joining, marital status to promotion level to help identify common factors that lead towards more attrition rate and therefore analyze what could probably be a solution to overcome the same. Failing to offer a promotion to the deserving employees can impact the organization with them leaving. This has a significant impact on the employer as they may lose their most talented employees and that will effect the growth of the organization. A various combination of factors can play a pivotal role that leads to the exit of an employee. Gender of the employee may be one such factor and given each individual has unique choices that contribute for them to stay or leave, it is good to be informed of the most common factors that align with each of the genders to stay or leave. It is important for the organization to understand if any specific factors play a vital role that leads to a higher attrition rate. Each organization can use these data points to their advantage in trying to improve the policies in place, thereby being successful in retaining its employees which eventually boosts the employee-employer satisfaction levels and creates a win-win situation for both. One aspect they can judge for this is based on whether the employees weigh more on the monetary side benefits or the non-monetary side of benefits to retain its employees. It is significant for the organization to know this as it helps them understand what kind of investment they need to make to hone the welfare of the organization. For instance, if it turns out that non-monetary side of benefits weigh more for most employees, then the organization would be losing a lot of money and also employees had they only invested monetarily. It is here that it will come in handy to understand and make the right switch to enhance non-monetary benefits. Lastly, say, the organization did analyze all these patterns and set up what seems to be a good (better) workplace, it is with the induction of new hires that they can understand if they have been successful or not in improving the standards to work. If not, based on how soon the new hire decides to leave, the organization has the data pertaining to the aspects that needs to be worked upon. With employees leaving, the organization pays a huge price in terms of time invested in each individual, monetary investment into training new hires, relocation benefits if applicable, recreational benefits, goodies and so on. So it is of utmost importance that an organization is able to pick the right employees, and by that we mean those that will stay with the organization in the long run and this analysis will help in analyzing just that. \n",
    "</p>"
   ]
  },
  {
   "cell_type": "markdown",
   "metadata": {},
   "source": [
    "<p style='text-align: justify;'>\n",
    "To help the organization overcome the issue of many employees resigning, we shall analyze some possible aspects that may lead to the exit of an employee. Once this data is obtained, the organization will be well informed with the possible problematic areas. This data will then help the organization in reflecting and bringing in change to try and decrease its employee attrition rate. Summarizing some of the aspects we covered above, we aim to analyze -\n",
    "</p>\n",
    "\n",
    "1. Are the employees who weren’t offered promotion relatively earlier, more likely to leave? \n",
    "2. Is there any specific combination of factors that results in high attrition for any given employee?\n",
    "3. What is more important to employees, the monetary side of their jobs or the non-monetary side like culture, work-life balance, training, etc. of the company?\n",
    "4. What are the key factors for each gender to decide whether to leave the company or stay with it?\n",
    "5. When provided with information on any new hire (a newly inducted employee), how likely is it that the new employee would leave the organization within months?"
   ]
  },
  {
   "cell_type": "markdown",
   "metadata": {},
   "source": [
    "#### Dataset Description\n",
    "\n",
    "<p style='text-align: justify;'>\n",
    "The dataset that we will be using is fabricated by the Data Scientists at IBM. It contains information about the various aspects that lead to the exit of an employee and the data thus collected would assist us in uncovering the factors that lead to Employee Attrition in present times. The link to the dataset can be found <a href=\"https://www.kaggle.com/datasets/pavansubhasht/ibm-hr-analytics-attrition-dataset\"> here</a>.\n",
    "</p>\n",
    "<p style='text-align: justify;'>\n",
    "The dataset is acquired from the website kaggle.com which we subsequently assemble and process for further analysis. \n",
    "</p>\n",
    "\n",
    "Some of the key insights about the dataset are as follows:\n",
    "- The dataset is composed of 35 columns and 1471 rows, with a total of 51485 data points.\n",
    "- The dataset is composed of a fair number of both categorical and numerical variables which will enable us to conduct analysis alongside several other dimensions.\n",
    "- Examples of categorical variables include: Education, Gender, Department, Marital Status, etc.\n",
    "- Examples of numeric variables include: Job Satisfaction, Salary Hike, Training Frequency, etc.\n",
    "\n",
    "<p style='text-align: justify;'>\n",
    "Based on industry standards, the variables included in the dataset assist us in predicting which factors correlate the most with Employee Attrition and which factors have a slim or negligible impact on the same.<br>\n",
    "Categorical variables including levels such as JobLevel, StockOptionLevel, and WorkLifeBalance have been coded numerically using appropriate scales to promote easy analysis.<br>\n",
    "Keeping in mind the diversity of data (in terms of different types of variables), we can plot a lot of inquisitive visualizations to compare different variables across several dimensions.\n",
    "</p>"
   ]
  },
  {
   "cell_type": "markdown",
   "metadata": {},
   "source": [
    "## <b>Choice for grading - Data Analysis</b>\n",
    "<p style='text-align: justify;'>\n",
    "Given that our dataset is relatively clean, we aim on being analysis intensive. This is because the dataset we obtained is fairly less dirty, and well structured. This pushed us to work more on the analysis aspect of the project inorder to get the best out of the dataset. We have used various models and visualizations that help with the analysis aspect of what are the key factors to help retain an employee.\n",
    "</p>"
   ]
  },
  {
   "cell_type": "markdown",
   "metadata": {},
   "source": [
    "<p style='text-align: justify;'>\n",
    "Having introduced the problem statement at hand, we now start by loading the dataset to start on the analysis.\n",
    "</p>"
   ]
  },
  {
   "cell_type": "code",
   "execution_count": 2,
   "metadata": {
    "id": "M6pkzLQ91Lnt"
   },
   "outputs": [],
   "source": [
    "import re\n",
    "import scipy\n",
    "import random\n",
    "import random\n",
    "import numpy as np\n",
    "import pandas as pd\n",
    "import seaborn as sns\n",
    "import scipy.stats as stats\n",
    "import matplotlib.pyplot as plt\n",
    "\n",
    "# to remove the below suppression\n",
    "pd.options.mode.chained_assignment = None\n",
    "\n",
    "# importing libraries\n",
    "import plotly.graph_objects as go\n",
    "from plotly.subplots import make_subplots\n",
    "\n",
    "# pip install imblearn\n",
    "from imblearn.over_sampling import SMOTE\n",
    "from imblearn.pipeline import Pipeline as imbpipe\n",
    "from imblearn.under_sampling import RandomUnderSampler\n",
    "\n",
    "import statsmodels.api as sm\n",
    "from statsmodels.tools.eval_measures import mse, rmse\n",
    "\n",
    "from sklearn.preprocessing import scale\n",
    "from sklearn.preprocessing import LabelEncoder\n",
    "from sklearn.metrics import mean_absolute_error\n",
    "from sklearn.preprocessing import StandardScaler\n",
    "from sklearn.linear_model import LinearRegression\n",
    "from sklearn.linear_model import LogisticRegression\n",
    "from sklearn.model_selection import train_test_split\n",
    "from sklearn.inspection import permutation_importance\n",
    "from sklearn.metrics import accuracy_score, confusion_matrix, classification_report"
   ]
  },
  {
   "cell_type": "markdown",
   "metadata": {},
   "source": [
    "## <b>Data Processing</b>\n",
    "<p style='text-align: justify;'>\n",
    "Having acquired and loaded the data from kaggle.com, the dataset contains 35 columns and 1471 rows, providing us with a total of 51485 unique data points. The data consists of balance between categorical variables like Gender, Education, and numerical variables like Salary, Daily Rate, and so on.\n",
    "</p>\n",
    "<p style='text-align: justify;'>\n",
    "We will carry out data cleaning exercise to ensure that the columns are in a good shape to carry out our analysis.\n",
    "</p>\n",
    "Let's start with loading the data."
   ]
  },
  {
   "cell_type": "code",
   "execution_count": 5,
   "metadata": {
    "colab": {
     "base_uri": "https://localhost:8080/",
     "height": 369
    },
    "id": "1yfbxpC-DmpP",
    "outputId": "550320cd-58a4-4017-f3ec-bd58c379ab90"
   },
   "outputs": [
    {
     "data": {
      "text/html": [
       "<div>\n",
       "<style scoped>\n",
       "    .dataframe tbody tr th:only-of-type {\n",
       "        vertical-align: middle;\n",
       "    }\n",
       "\n",
       "    .dataframe tbody tr th {\n",
       "        vertical-align: top;\n",
       "    }\n",
       "\n",
       "    .dataframe thead th {\n",
       "        text-align: right;\n",
       "    }\n",
       "</style>\n",
       "<table border=\"1\" class=\"dataframe\">\n",
       "  <thead>\n",
       "    <tr style=\"text-align: right;\">\n",
       "      <th></th>\n",
       "      <th>Age</th>\n",
       "      <th>Attrition</th>\n",
       "      <th>BusinessTravel</th>\n",
       "      <th>DailyRate</th>\n",
       "      <th>Department</th>\n",
       "      <th>DistanceFromHome</th>\n",
       "      <th>Education</th>\n",
       "      <th>EducationField</th>\n",
       "      <th>EmployeeCount</th>\n",
       "      <th>EmployeeNumber</th>\n",
       "      <th>...</th>\n",
       "      <th>RelationshipSatisfaction</th>\n",
       "      <th>StandardHours</th>\n",
       "      <th>StockOptionLevel</th>\n",
       "      <th>TotalWorkingYears</th>\n",
       "      <th>TrainingTimesLastYear</th>\n",
       "      <th>WorkLifeBalance</th>\n",
       "      <th>YearsAtCompany</th>\n",
       "      <th>YearsInCurrentRole</th>\n",
       "      <th>YearsSinceLastPromotion</th>\n",
       "      <th>YearsWithCurrManager</th>\n",
       "    </tr>\n",
       "  </thead>\n",
       "  <tbody>\n",
       "    <tr>\n",
       "      <th>0</th>\n",
       "      <td>41</td>\n",
       "      <td>Yes</td>\n",
       "      <td>Travel_Rarely</td>\n",
       "      <td>1102</td>\n",
       "      <td>Sales</td>\n",
       "      <td>1</td>\n",
       "      <td>2</td>\n",
       "      <td>Life Sciences</td>\n",
       "      <td>1</td>\n",
       "      <td>1</td>\n",
       "      <td>...</td>\n",
       "      <td>1</td>\n",
       "      <td>80</td>\n",
       "      <td>0</td>\n",
       "      <td>8</td>\n",
       "      <td>0</td>\n",
       "      <td>1</td>\n",
       "      <td>6</td>\n",
       "      <td>4</td>\n",
       "      <td>0</td>\n",
       "      <td>5</td>\n",
       "    </tr>\n",
       "    <tr>\n",
       "      <th>1</th>\n",
       "      <td>49</td>\n",
       "      <td>No</td>\n",
       "      <td>Travel_Frequently</td>\n",
       "      <td>279</td>\n",
       "      <td>Research &amp; Development</td>\n",
       "      <td>8</td>\n",
       "      <td>1</td>\n",
       "      <td>Life Sciences</td>\n",
       "      <td>1</td>\n",
       "      <td>2</td>\n",
       "      <td>...</td>\n",
       "      <td>4</td>\n",
       "      <td>80</td>\n",
       "      <td>1</td>\n",
       "      <td>10</td>\n",
       "      <td>3</td>\n",
       "      <td>3</td>\n",
       "      <td>10</td>\n",
       "      <td>7</td>\n",
       "      <td>1</td>\n",
       "      <td>7</td>\n",
       "    </tr>\n",
       "    <tr>\n",
       "      <th>2</th>\n",
       "      <td>37</td>\n",
       "      <td>Yes</td>\n",
       "      <td>Travel_Rarely</td>\n",
       "      <td>1373</td>\n",
       "      <td>Research &amp; Development</td>\n",
       "      <td>2</td>\n",
       "      <td>2</td>\n",
       "      <td>Other</td>\n",
       "      <td>1</td>\n",
       "      <td>4</td>\n",
       "      <td>...</td>\n",
       "      <td>2</td>\n",
       "      <td>80</td>\n",
       "      <td>0</td>\n",
       "      <td>7</td>\n",
       "      <td>3</td>\n",
       "      <td>3</td>\n",
       "      <td>0</td>\n",
       "      <td>0</td>\n",
       "      <td>0</td>\n",
       "      <td>0</td>\n",
       "    </tr>\n",
       "    <tr>\n",
       "      <th>3</th>\n",
       "      <td>33</td>\n",
       "      <td>No</td>\n",
       "      <td>Travel_Frequently</td>\n",
       "      <td>1392</td>\n",
       "      <td>Research &amp; Development</td>\n",
       "      <td>3</td>\n",
       "      <td>4</td>\n",
       "      <td>Life Sciences</td>\n",
       "      <td>1</td>\n",
       "      <td>5</td>\n",
       "      <td>...</td>\n",
       "      <td>3</td>\n",
       "      <td>80</td>\n",
       "      <td>0</td>\n",
       "      <td>8</td>\n",
       "      <td>3</td>\n",
       "      <td>3</td>\n",
       "      <td>8</td>\n",
       "      <td>7</td>\n",
       "      <td>3</td>\n",
       "      <td>0</td>\n",
       "    </tr>\n",
       "    <tr>\n",
       "      <th>4</th>\n",
       "      <td>27</td>\n",
       "      <td>No</td>\n",
       "      <td>Travel_Rarely</td>\n",
       "      <td>591</td>\n",
       "      <td>Research &amp; Development</td>\n",
       "      <td>2</td>\n",
       "      <td>1</td>\n",
       "      <td>Medical</td>\n",
       "      <td>1</td>\n",
       "      <td>7</td>\n",
       "      <td>...</td>\n",
       "      <td>4</td>\n",
       "      <td>80</td>\n",
       "      <td>1</td>\n",
       "      <td>6</td>\n",
       "      <td>3</td>\n",
       "      <td>3</td>\n",
       "      <td>2</td>\n",
       "      <td>2</td>\n",
       "      <td>2</td>\n",
       "      <td>2</td>\n",
       "    </tr>\n",
       "  </tbody>\n",
       "</table>\n",
       "<p>5 rows × 35 columns</p>\n",
       "</div>"
      ],
      "text/plain": [
       "   Age Attrition     BusinessTravel  DailyRate              Department  \\\n",
       "0   41       Yes      Travel_Rarely       1102                   Sales   \n",
       "1   49        No  Travel_Frequently        279  Research & Development   \n",
       "2   37       Yes      Travel_Rarely       1373  Research & Development   \n",
       "3   33        No  Travel_Frequently       1392  Research & Development   \n",
       "4   27        No      Travel_Rarely        591  Research & Development   \n",
       "\n",
       "   DistanceFromHome  Education EducationField  EmployeeCount  EmployeeNumber  \\\n",
       "0                 1          2  Life Sciences              1               1   \n",
       "1                 8          1  Life Sciences              1               2   \n",
       "2                 2          2          Other              1               4   \n",
       "3                 3          4  Life Sciences              1               5   \n",
       "4                 2          1        Medical              1               7   \n",
       "\n",
       "   ...  RelationshipSatisfaction StandardHours  StockOptionLevel  \\\n",
       "0  ...                         1            80                 0   \n",
       "1  ...                         4            80                 1   \n",
       "2  ...                         2            80                 0   \n",
       "3  ...                         3            80                 0   \n",
       "4  ...                         4            80                 1   \n",
       "\n",
       "   TotalWorkingYears  TrainingTimesLastYear WorkLifeBalance  YearsAtCompany  \\\n",
       "0                  8                      0               1               6   \n",
       "1                 10                      3               3              10   \n",
       "2                  7                      3               3               0   \n",
       "3                  8                      3               3               8   \n",
       "4                  6                      3               3               2   \n",
       "\n",
       "  YearsInCurrentRole  YearsSinceLastPromotion  YearsWithCurrManager  \n",
       "0                  4                        0                     5  \n",
       "1                  7                        1                     7  \n",
       "2                  0                        0                     0  \n",
       "3                  7                        3                     0  \n",
       "4                  2                        2                     2  \n",
       "\n",
       "[5 rows x 35 columns]"
      ]
     },
     "execution_count": 5,
     "metadata": {},
     "output_type": "execute_result"
    }
   ],
   "source": [
    "# loading data\n",
    "\n",
    "file = ('Employee-Attrition-Dataset.csv')\n",
    "data = pd.read_csv(file)\n",
    "data.head()"
   ]
  },
  {
   "cell_type": "code",
   "execution_count": 6,
   "metadata": {
    "colab": {
     "base_uri": "https://localhost:8080/"
    },
    "id": "5eTRpKiz2ZsZ",
    "outputId": "61b596c2-1eac-430a-d4ed-b614c92e4a43"
   },
   "outputs": [
    {
     "data": {
      "text/plain": [
       "Index(['Age', 'Attrition', 'BusinessTravel', 'DailyRate', 'Department',\n",
       "       'DistanceFromHome', 'Education', 'EducationField', 'EmployeeCount',\n",
       "       'EmployeeNumber', 'EnvironmentSatisfaction', 'Gender', 'HourlyRate',\n",
       "       'JobInvolvement', 'JobLevel', 'JobRole', 'JobSatisfaction',\n",
       "       'MaritalStatus', 'MonthlyIncome', 'MonthlyRate', 'NumCompaniesWorked',\n",
       "       'Over18', 'OverTime', 'PercentSalaryHike', 'PerformanceRating',\n",
       "       'RelationshipSatisfaction', 'StandardHours', 'StockOptionLevel',\n",
       "       'TotalWorkingYears', 'TrainingTimesLastYear', 'WorkLifeBalance',\n",
       "       'YearsAtCompany', 'YearsInCurrentRole', 'YearsSinceLastPromotion',\n",
       "       'YearsWithCurrManager'],\n",
       "      dtype='object')"
      ]
     },
     "execution_count": 6,
     "metadata": {},
     "output_type": "execute_result"
    }
   ],
   "source": [
    "# viewing all columns\n",
    "data.columns"
   ]
  },
  {
   "cell_type": "markdown",
   "metadata": {},
   "source": [
    "<p style='text-align: justify;'>\n",
    "For cleaning column Age we are making sure that it contains only  two digits as our data should not have an employee more than 99 years old.\n",
    "</p>"
   ]
  },
  {
   "cell_type": "code",
   "execution_count": 7,
   "metadata": {
    "colab": {
     "base_uri": "https://localhost:8080/"
    },
    "id": "qjw40rss2eHz",
    "outputId": "02887e40-671b-46f3-c090-46f4319648cb"
   },
   "outputs": [
    {
     "data": {
      "text/plain": [
       "array([41, 49, 37, 33, 27, 32, 59, 30, 38, 36, 35, 29, 31, 34, 28, 22, 53,\n",
       "       24, 21, 42, 44, 46, 39, 43, 50, 26, 48, 55, 45, 56, 23, 51, 40, 54,\n",
       "       58, 20, 25, 19, 57, 52, 47, 18, 60])"
      ]
     },
     "execution_count": 7,
     "metadata": {},
     "output_type": "execute_result"
    }
   ],
   "source": [
    "# cleaning the column 'Age' - convert to int & verify if column contains 2 digits.\n",
    "\n",
    "data['Age'].astype(str).str.contains('\\d{2}')\n",
    "# now converting the age column to Integer values\n",
    "data.loc[:,'Age'] = data.loc[:,'Age'].astype(int)\n",
    "data['Age'].unique()"
   ]
  },
  {
   "cell_type": "markdown",
   "metadata": {},
   "source": [
    "<p style='text-align: justify;'>\n",
    "For Attrition column which is boolean target variable, we will convert it to numbers e.g. 1 for yes and 0 for no. This way we will be able to run regressions later on.\n",
    "</p>"
   ]
  },
  {
   "cell_type": "code",
   "execution_count": 8,
   "metadata": {
    "colab": {
     "base_uri": "https://localhost:8080/"
    },
    "id": "3HoRvqbG44W4",
    "outputId": "354cc1e1-8374-48f2-b190-e752caa1a5a6"
   },
   "outputs": [
    {
     "name": "stdout",
     "output_type": "stream",
     "text": [
      "Unique Values in Attrition column are:  ['1' '0']\n"
     ]
    }
   ],
   "source": [
    "# cleaning the column 'Attrition' - replace boolean Yes/No with 1/0 respectively \n",
    "\n",
    "# ensure type of case doesn't interfere in cleaning\n",
    "data['Attrition'] = data['Attrition'].str.lower() \n",
    "data['Attrition'] = data['Attrition'].str.replace('yes','1')\n",
    "data['Attrition'] = data['Attrition'].str.replace('no','0')\n",
    "print(\"Unique Values in Attrition column are: \", data['Attrition'].unique())"
   ]
  },
  {
   "cell_type": "markdown",
   "metadata": {},
   "source": [
    "<p style='text-align: justify;'>\n",
    "For categorical variables, we will be creating dummy variables later on. For now, we will assess that the column is clean and view the categories it contains. The category names are a bit long, so we shorten the category names.\n",
    "</p>"
   ]
  },
  {
   "cell_type": "code",
   "execution_count": 9,
   "metadata": {},
   "outputs": [
    {
     "name": "stdout",
     "output_type": "stream",
     "text": [
      "\n",
      "Initial values in Business Travel column:  ['Travel_Rarely' 'Travel_Frequently' 'Non-Travel']\n",
      "\n",
      "Final values after Updating Business Travel column:  ['Rare' 'Frequent' 'No']\n"
     ]
    }
   ],
   "source": [
    "# cleaning the column 'BusinessTravel' - re-evalute the categories for travel to be either No, Rare or Frequent\n",
    "\n",
    "print(\"\\nInitial values in Business Travel column: \", data['BusinessTravel'].unique())\n",
    "\n",
    "# replacing Travel_Rarely, Travel_Frequently, Non-Travel values to Rare, Frequent, and No respectively\n",
    "\n",
    "data['BusinessTravel'] = data['BusinessTravel'].str.replace('Travel_Rarely','Rare')\n",
    "data['BusinessTravel'] = data['BusinessTravel'].str.replace('Travel_Frequently','Frequent')\n",
    "data['BusinessTravel'] = data['BusinessTravel'].str.replace('Non-Travel','No')\n",
    "\n",
    "# verifying the updated changes\n",
    "print(\"\\nFinal values after Updating Business Travel column: \",data['BusinessTravel'].unique())"
   ]
  },
  {
   "cell_type": "markdown",
   "metadata": {},
   "source": [
    "<p style='text-align: justify;'>\n",
    "For the column 'Department', we checked for unqiue values in the column and it looks clean and found out the employees are divided into three departments. These department names can be addressed in their common acronyms and we therefore replace Research & Development with R&D and Human Resources with HR.\n",
    "</p>"
   ]
  },
  {
   "cell_type": "code",
   "execution_count": 10,
   "metadata": {},
   "outputs": [
    {
     "name": "stdout",
     "output_type": "stream",
     "text": [
      "Unique Values of Departments:  ['Sales' 'Research & Development' 'Human Resources']\n",
      "\n",
      "Final values after updating Department column:  ['Sales' 'R&D' 'HR']\n"
     ]
    }
   ],
   "source": [
    "# cleaning the column 'Department'\n",
    "\n",
    "print(\"Unique Values of Departments: \", data['Department'].unique())\n",
    "\n",
    "# replacing certain values of column\n",
    "\n",
    "data['Department'] = data['Department'].str.replace('Research & Development','R&D')\n",
    "data['Department'] = data['Department'].str.replace('Human Resources','HR')\n",
    "\n",
    "# verifying the updated changes\n",
    "print(\"\\nFinal values after updating Department column: \",data['Department'].unique())"
   ]
  },
  {
   "cell_type": "markdown",
   "metadata": {},
   "source": [
    "<p style='text-align: justify;'>\n",
    "Name of the Distance column is not clear and communicative in terms of the unit of distance, so we are renaming it to reflect better. We are also making sure that this column only contains numbers.\n",
    "</p>"
   ]
  },
  {
   "cell_type": "code",
   "execution_count": 11,
   "metadata": {},
   "outputs": [
    {
     "data": {
      "text/plain": [
       "True    1470\n",
       "Name: DistanceFromHome (miles), dtype: int64"
      ]
     },
     "execution_count": 11,
     "metadata": {},
     "output_type": "execute_result"
    }
   ],
   "source": [
    "# cleaning the column 'Distance'\n",
    "\n",
    "# renaming the column with units in the heading\n",
    "\n",
    "data.rename(columns = {'DistanceFromHome' : 'DistanceFromHome (miles)'}, inplace = True, errors = 'raise')\n",
    "\n",
    "# verifying if column contains all numbers\n",
    "\n",
    "distance_column = data['DistanceFromHome (miles)'].astype(str).str.contains('\\d+')\n",
    "distance_column.value_counts()"
   ]
  },
  {
   "cell_type": "markdown",
   "metadata": {},
   "source": [
    "<p style='text-align: justify;'>\n",
    "For Education column, we are given levels in numbers but that does not convey information and is not intuitive. Therefore, we replace them with their original categorical values from the information that the dataset provided.\n",
    "</p>"
   ]
  },
  {
   "cell_type": "code",
   "execution_count": 12,
   "metadata": {},
   "outputs": [
    {
     "name": "stdout",
     "output_type": "stream",
     "text": [
      "\n",
      "Original Values in Education column:  [2 1 4 3 5]\n",
      "\n",
      "Updated Values of Education column:  ['College' 'Below College' 'Master' 'Bachelor' 'Doctor']\n",
      "\n",
      "Unique Data in Education Field column ['Life Sciences' 'Other' 'Medical' 'Marketing' 'Technical Degree'\n",
      " 'Human Resources']\n"
     ]
    }
   ],
   "source": [
    "# cleaning the coumn 'Education column'\n",
    "\n",
    "print(\"\\nOriginal Values in Education column: \", data['Education'].unique())\n",
    "# mapping the education status as:\n",
    "# 1,2,3,4,5 to 'Below College', 'College', 'Bachelor', 'Master', 'Doctor' respectively\n",
    "\n",
    "data['Education'] = data['Education'].astype(str).str.replace('1','Below College')\n",
    "data['Education'] = data['Education'].astype(str).str.replace('2','College')\n",
    "data['Education'] = data['Education'].astype(str).str.replace('3','Bachelor')\n",
    "data['Education'] = data['Education'].astype(str).str.replace('4','Master')\n",
    "data['Education'] = data['Education'].astype(str).str.replace('5','Doctor')\n",
    "\n",
    "#checking whether our updates are reflected in the dataframe\n",
    "print(\"\\nUpdated Values of Education column: \",data['Education'].unique())\n",
    "\n",
    "# cleaning the column 'EducationField'\n",
    "# cheking for unique values\n",
    "\n",
    "print(\"\\nUnique Data in Education Field column\", data['EducationField'].unique())\n",
    "# employees are divided into 6 different Education Fields"
   ]
  },
  {
   "cell_type": "markdown",
   "metadata": {},
   "source": [
    "Removing the column EmployeeCount as it is just a count column causing redundancy"
   ]
  },
  {
   "cell_type": "code",
   "execution_count": 13,
   "metadata": {
    "colab": {
     "base_uri": "https://localhost:8080/"
    },
    "id": "6ONZ0znd7txY",
    "outputId": "e31c3bbc-508b-427d-921e-0473eb218336"
   },
   "outputs": [
    {
     "name": "stdout",
     "output_type": "stream",
     "text": [
      "\n",
      "Unique values in EmployeeCount column:  [1]\n"
     ]
    }
   ],
   "source": [
    "# removing the column EmployeeCount as it is redundant\n",
    "print(\"\\nUnique values in EmployeeCount column: \",data['EmployeeCount'].unique())\n",
    "\n",
    "data.drop(['EmployeeCount'], inplace = True, axis = 1)"
   ]
  },
  {
   "cell_type": "markdown",
   "metadata": {},
   "source": [
    "Checking for duplication in Employee number because these values should be unique."
   ]
  },
  {
   "cell_type": "code",
   "execution_count": 14,
   "metadata": {},
   "outputs": [
    {
     "name": "stdout",
     "output_type": "stream",
     "text": [
      "int64\n",
      "All Employee Numbers Different :  True\n"
     ]
    }
   ],
   "source": [
    "# cleaning the column 'EmployeeNumber'\n",
    "\n",
    "# verifying that no two employees hold the same ID\n",
    "\n",
    "# matching the number of observations with number of unique observations\n",
    "print(data['EmployeeNumber'].dtypes)\n",
    "(unique_values, count_values) = np.unique(data['EmployeeNumber'], return_counts=True)\n",
    "print(\"All Employee Numbers Different : \", data['EmployeeNumber'].count() == count_values.sum())"
   ]
  },
  {
   "cell_type": "markdown",
   "metadata": {},
   "source": [
    "<p style='text-align: justify;'>\n",
    "Employees Satisfaction score should be within a certain range and should have been reported by all employees. So we will verify the same below. We also convert it into integers to help with the analysis.\n",
    "</p>"
   ]
  },
  {
   "cell_type": "code",
   "execution_count": 15,
   "metadata": {
    "colab": {
     "base_uri": "https://localhost:8080/"
    },
    "id": "Mu38xOHSAm50",
    "outputId": "f04e0e06-f4d7-4ed4-cc52-29117af9c9bb"
   },
   "outputs": [
    {
     "name": "stdout",
     "output_type": "stream",
     "text": [
      "\n",
      "Unique values in Environment Satisfaction column:  [2 3 4 1]\n",
      "\n",
      "Number of missing values in Environment Satisfaction column:  0\n"
     ]
    },
    {
     "data": {
      "text/plain": [
       "dtype('int64')"
      ]
     },
     "execution_count": 15,
     "metadata": {},
     "output_type": "execute_result"
    }
   ],
   "source": [
    "# cleaning the column 'Environment Satisfaction'\n",
    "\n",
    "print(\"\\nUnique values in Environment Satisfaction column: \", data['EnvironmentSatisfaction'].unique())\n",
    "\n",
    "# checking for any missing values\n",
    "print(\"\\nNumber of missing values in Environment Satisfaction column: \", data['EnvironmentSatisfaction'].isna().sum())\n",
    "\n",
    "#convert the column into Integer\n",
    "data['EnvironmentSatisfaction'] = data['EnvironmentSatisfaction'].astype(int)\n",
    "data['EnvironmentSatisfaction'].dtypes"
   ]
  },
  {
   "cell_type": "markdown",
   "metadata": {},
   "source": [
    "<p style='text-align: justify;'>\n",
    "For rest of the columns, we will be doing the same analysis as we did above but customized to each column and its unique requirements. We will be converting categories into numbers where ever appropriate, renaming columns to make it more intuitive to understand, checking if values lie between an expected range, numeric columns to only hold numbers, ensure that there are no missing values, etc.\n",
    "</p>\n",
    "<p style='text-align: justify;'>\n",
    "This analysis makes sure than our data is clean and we are ready for carrying out the analysis.\n",
    "</p>"
   ]
  },
  {
   "cell_type": "code",
   "execution_count": 16,
   "metadata": {
    "colab": {
     "base_uri": "https://localhost:8080/"
    },
    "id": "uSoUYSKpED0T",
    "outputId": "9fd897dd-68da-4999-c75f-d7f3c524bb3a"
   },
   "outputs": [
    {
     "name": "stdout",
     "output_type": "stream",
     "text": [
      "Unique Values in Gender column are:  ['F' 'M'] \n",
      "\n"
     ]
    }
   ],
   "source": [
    "# cleaning the column 'Gender'\n",
    "# replacing the Male and Female values with M and F respectively\n",
    "\n",
    "data['Gender'] = data['Gender'].str.replace('Male','M')\n",
    "data['Gender'] = data['Gender'].str.replace('Female','F')\n",
    "print(\"Unique Values in Gender column are: \", data['Gender'].unique(), \"\\n\") "
   ]
  },
  {
   "cell_type": "code",
   "execution_count": 17,
   "metadata": {},
   "outputs": [
    {
     "data": {
      "text/plain": [
       "True    1470\n",
       "Name: HourlyRate ($), dtype: int64"
      ]
     },
     "execution_count": 17,
     "metadata": {},
     "output_type": "execute_result"
    }
   ],
   "source": [
    "# cleaning the column 'HourlyRate'\n",
    "\n",
    "# renaming the title to hold unit of pay as USD\n",
    "\n",
    "data.rename(columns = {'HourlyRate' : 'HourlyRate ($)'}, inplace = True, errors='raise')\n",
    "\n",
    "# verifying that the column contains all numbers\n",
    "\n",
    "distance_column = data['HourlyRate ($)'].astype(str).str.contains('\\d+')\n",
    "\n",
    "distance_column.value_counts()\n",
    "\n",
    "# all true values confirming that all the rows of HourlyRate column contains digits"
   ]
  },
  {
   "cell_type": "code",
   "execution_count": 18,
   "metadata": {},
   "outputs": [
    {
     "name": "stdout",
     "output_type": "stream",
     "text": [
      "Unique values in the Job Involvement column:  [3 2 4 1]\n"
     ]
    },
    {
     "data": {
      "text/plain": [
       "dtype('int64')"
      ]
     },
     "execution_count": 18,
     "metadata": {},
     "output_type": "execute_result"
    }
   ],
   "source": [
    "# cleaning the column 'Job Involvement'\n",
    "\n",
    "# checking whether the values are in the range of 1-4\n",
    "\n",
    "print(\"Unique values in the Job Involvement column: \", data['JobInvolvement'].unique())\n",
    "\n",
    "#convert the column into integer type\n",
    "data['JobInvolvement'] = data['JobInvolvement'].astype(int)\n",
    "data['JobInvolvement'].dtypes"
   ]
  },
  {
   "cell_type": "code",
   "execution_count": 19,
   "metadata": {},
   "outputs": [
    {
     "name": "stdout",
     "output_type": "stream",
     "text": [
      "\n",
      "Unique values in the Job Level column:  [2 1 3 4 5]\n"
     ]
    },
    {
     "data": {
      "text/plain": [
       "dtype('int64')"
      ]
     },
     "execution_count": 19,
     "metadata": {},
     "output_type": "execute_result"
    }
   ],
   "source": [
    "# cleaning the column 'Job Level'\n",
    "\n",
    "# checking whether the values are in the range of 1-5\n",
    "\n",
    "print(\"\\nUnique values in the Job Level column: \", data['JobLevel'].unique())\n",
    "\n",
    "#convert the column into integer type\n",
    "data['JobLevel'] = data['JobLevel'].astype(int)\n",
    "data['JobLevel'].dtypes"
   ]
  },
  {
   "cell_type": "code",
   "execution_count": 20,
   "metadata": {
    "colab": {
     "base_uri": "https://localhost:8080/"
    },
    "id": "9v9jj0HUFmXw",
    "outputId": "e9530da2-a9da-49da-a7ce-93a7deeee0bd"
   },
   "outputs": [
    {
     "name": "stdout",
     "output_type": "stream",
     "text": [
      "\n",
      "Unique values in the job role column:  ['Sales Executive' 'Research Scientist' 'Laboratory Technician'\n",
      " 'Manufacturing Director' 'Healthcare Representative' 'Manager'\n",
      " 'Sales Representative' 'Research Director' 'Human Resources']\n",
      "\n",
      "Unique values in the Job Satisfaction column:  [4 2 3 1]\n",
      "\n",
      "Number of null values present in the job Satisfaction column:  0\n"
     ]
    }
   ],
   "source": [
    "\n",
    "# cleaning the column 'Job Role'\n",
    "\n",
    "print(\"\\nUnique values in the job role column: \", data['JobRole'].unique())\n",
    "\n",
    "# cleaning the column 'Job Satisfaction'\n",
    "\n",
    "print(\"\\nUnique values in the Job Satisfaction column: \", data['JobSatisfaction'].unique())\n",
    "\n",
    "# the job satisfaction score lies within 1-4\n",
    "# checking for any null values\n",
    "\n",
    "print(\"\\nNumber of null values present in the job Satisfaction column: \",data['JobSatisfaction'].isna().sum())"
   ]
  },
  {
   "cell_type": "code",
   "execution_count": 21,
   "metadata": {},
   "outputs": [
    {
     "name": "stdout",
     "output_type": "stream",
     "text": [
      "['Single' 'Married' 'Divorced']\n",
      "Unique Values in the Marital Status column:  ['0' '1' '2']\n"
     ]
    }
   ],
   "source": [
    "# cleaning the column 'MaritalStatus'\n",
    "\n",
    "# Obtain unique values - 'Single', 'Married', 'Divorced'\n",
    "print (data['MaritalStatus'].unique())\n",
    "\n",
    "# Convert them to 0,1,2 respectively to help\n",
    "data['MaritalStatus'] = data['MaritalStatus'].str.replace('Single', '0')\n",
    "data['MaritalStatus'] = data['MaritalStatus'].str.replace('Married', '1')\n",
    "data['MaritalStatus'] = data['MaritalStatus'].str.replace('Divorced', '2')\n",
    "\n",
    "print (\"Unique Values in the Marital Status column: \",data['MaritalStatus'].unique())"
   ]
  },
  {
   "cell_type": "code",
   "execution_count": 22,
   "metadata": {},
   "outputs": [
    {
     "name": "stdout",
     "output_type": "stream",
     "text": [
      "False    1470\n",
      "Name: MonthlyIncome, dtype: int64\n"
     ]
    }
   ],
   "source": [
    "# cleaning the column 'MonthlyIncome'\n",
    "\n",
    "# can be considered to be of type float and contain merely digits and a single '.' (if any).\n",
    "\n",
    "col = data['MonthlyIncome'].astype(str).str.contains('[.]+')\n",
    "print(col.value_counts())\n",
    "\n",
    "data.loc[:,'MonthlyIncome'] = data.loc[:,'MonthlyIncome'].replace(',','')\n",
    "\n",
    "data['MonthlyIncome'] = data['MonthlyIncome'].astype('float').round(2)"
   ]
  },
  {
   "cell_type": "code",
   "execution_count": 23,
   "metadata": {},
   "outputs": [
    {
     "name": "stdout",
     "output_type": "stream",
     "text": [
      "False    1470\n",
      "Name: MonthlyRate, dtype: int64\n"
     ]
    }
   ],
   "source": [
    "# cleaning the column 'MonthlyRate'\n",
    "# can be considered to be of type float and contain merely digits and a single '.' (if any).\n",
    "\n",
    "data.loc[:,'MonthlyRate'] = data.loc[:,'MonthlyRate'].replace(',','')\n",
    "\n",
    "col = data['MonthlyRate'].astype(str).str.contains('[.]+')\n",
    "print(col.value_counts())\n",
    "\n",
    "data['MonthlyRate'] = data['MonthlyRate'].astype('float').round(2)"
   ]
  },
  {
   "cell_type": "code",
   "execution_count": 24,
   "metadata": {},
   "outputs": [
    {
     "name": "stdout",
     "output_type": "stream",
     "text": [
      "\n",
      "Unique values in the NumCompaniesWorked column  [8 1 6 9 0 4 5 2 7 3]\n",
      "True    1470\n",
      "Name: NumCompaniesWorked, dtype: int64\n"
     ]
    }
   ],
   "source": [
    "# cleaning the column 'NumCompaniesWorked'\n",
    "# to be integer value with max two digits\n",
    "\n",
    "print (\"\\nUnique values in the NumCompaniesWorked column \",data['NumCompaniesWorked'].unique())\n",
    "\n",
    "data['NumCompaniesWorked'] = data['NumCompaniesWorked'].astype('str')\n",
    "print(data['NumCompaniesWorked'].str.contains('\\d{1,2}').value_counts())\n",
    "\n",
    "data['NumCompaniesWorked'] = data['NumCompaniesWorked'].astype('int')"
   ]
  },
  {
   "cell_type": "code",
   "execution_count": 25,
   "metadata": {
    "colab": {
     "base_uri": "https://localhost:8080/"
    },
    "id": "9610fc46-8cb6-4bff-81f8-a3eb997f1d25",
    "outputId": "876b314e-c903-4854-c541-bfe00e1b3c52"
   },
   "outputs": [
    {
     "name": "stdout",
     "output_type": "stream",
     "text": [
      "\n",
      "Unique values in the Over18 column ['Y']\n",
      "\n",
      "Number of No values in the Over18 column:  0\n"
     ]
    }
   ],
   "source": [
    "# cleaning the column 'Over18'\n",
    "\n",
    "# to be single alphabet 'Y' or 'N'\n",
    "print (\"\\nUnique values in the Over18 column\" ,data['Over18'].unique())\n",
    "\n",
    "# identify for any missing values as we only see 'Y'\n",
    "print(\"\\nNumber of No values in the Over18 column: \",data['Over18'].isna().sum())"
   ]
  },
  {
   "cell_type": "code",
   "execution_count": 26,
   "metadata": {},
   "outputs": [
    {
     "name": "stdout",
     "output_type": "stream",
     "text": [
      "Range of Salary hikes given to Employees:  [11 23 15 12 13 20 22 21 17 14 16 18 19 24 25]\n"
     ]
    }
   ],
   "source": [
    "# cleaning column 'PercentSalaryHike'\n",
    "\n",
    "#ranges between 11 - 25%\n",
    "print (\"Range of Salary hikes given to Employees: \",data['PercentSalaryHike'].unique())\n",
    "\n",
    "# rename to have (%) instead of in title\n",
    "data['PercentSalaryHike'] = data['PercentSalaryHike'].astype('float').round(2)\n",
    "data.rename(columns = {'PercentSalaryHike' : 'SalaryHike (in %)'}, inplace = True, errors='raise')"
   ]
  },
  {
   "cell_type": "code",
   "execution_count": 27,
   "metadata": {},
   "outputs": [
    {
     "name": "stdout",
     "output_type": "stream",
     "text": [
      "\n",
      "Unique values in the Perfomance Rating column:  [3 4]\n"
     ]
    }
   ],
   "source": [
    "# cleaning column 'PerformanceRating'\n",
    "\n",
    "# to be single digit either 3 or 4\n",
    "print (\"\\nUnique values in the Perfomance Rating column: \",data['PerformanceRating'].unique())\n",
    "\n",
    "# identify for any missing values\n",
    "data['PerformanceRating'].isna().sum()\n",
    "\n",
    "data['PerformanceRating'] = data['PerformanceRating'].astype('int')"
   ]
  },
  {
   "cell_type": "code",
   "execution_count": 28,
   "metadata": {},
   "outputs": [
    {
     "name": "stdout",
     "output_type": "stream",
     "text": [
      "\n",
      "Unique values in the Relationship Satisfaction column:  [1 4 2 3]\n"
     ]
    }
   ],
   "source": [
    "# cleaning column 'RelationshipSatisfaction'\n",
    "\n",
    "# to be single digit either 1, 2, 3 or 4\n",
    "print (\"\\nUnique values in the Relationship Satisfaction column: \", data['RelationshipSatisfaction'].unique())\n",
    "\n",
    "# identify for any missing values\n",
    "\n",
    "data['RelationshipSatisfaction'].isna().sum()\n",
    "data['RelationshipSatisfaction'] = data['RelationshipSatisfaction'].astype('int')"
   ]
  },
  {
   "cell_type": "code",
   "execution_count": 29,
   "metadata": {},
   "outputs": [
    {
     "name": "stdout",
     "output_type": "stream",
     "text": [
      "\n",
      "Unique values in the Standard Hours column:  [80]\n"
     ]
    }
   ],
   "source": [
    "# cleaning column 'StandardHours'\n",
    "\n",
    "# to be integer val of 80\n",
    "print (\"\\nUnique values in the Standard Hours column: \", data['StandardHours'].unique())\n",
    "\n",
    "# identify for any missing values\n",
    "\n",
    "data['StandardHours'].isna().sum()\n",
    "data['StandardHours'] = data['StandardHours'].astype('int')"
   ]
  },
  {
   "cell_type": "code",
   "execution_count": 30,
   "metadata": {},
   "outputs": [
    {
     "name": "stdout",
     "output_type": "stream",
     "text": [
      "\n",
      "Unique values in the StockOptionLevel column:  [0 1 3 2]\n"
     ]
    }
   ],
   "source": [
    "# cleaning column 'StockOptionLevel'\n",
    "\n",
    "# to be an integer val of 0, 1, 2 or 3\n",
    "print (\"\\nUnique values in the StockOptionLevel column: \",data['StockOptionLevel'].unique())\n",
    "\n",
    "# identify for any missing values\n",
    "data['StockOptionLevel'].isna().sum()\n",
    "data['StockOptionLevel'] = data['StockOptionLevel'].astype('int')"
   ]
  },
  {
   "cell_type": "code",
   "execution_count": 31,
   "metadata": {
    "colab": {
     "base_uri": "https://localhost:8080/"
    },
    "id": "e8e37b13-c3c2-40a9-a8da-3b3519519d5d",
    "outputId": "4f7bb680-8551-47d5-ff6f-4d34affdd125"
   },
   "outputs": [
    {
     "name": "stdout",
     "output_type": "stream",
     "text": [
      "\n",
      "Unique values in the TotalWorkingYears column:  [ 8 10  7  6 12  1 17  5  3 31 13  0 26 24 22  9 19  2 23 14 15  4 29 28\n",
      " 21 25 20 11 16 37 38 30 40 18 36 34 32 33 35 27]\n"
     ]
    }
   ],
   "source": [
    "# cleaning column 'TotalWorkingYears'\n",
    "# to be an integer val\n",
    "print (\"\\nUnique values in the TotalWorkingYears column: \",data['TotalWorkingYears'].unique())\n",
    "\n",
    "# identify for any missing values\n",
    "data['TotalWorkingYears'].isna().sum()\n",
    "\n",
    "data['TotalWorkingYears'] = data['TotalWorkingYears'].astype('int')"
   ]
  },
  {
   "cell_type": "code",
   "execution_count": 32,
   "metadata": {},
   "outputs": [
    {
     "name": "stdout",
     "output_type": "stream",
     "text": [
      "Unique values in the TrainingTimesLastYear column:  [0 3 2 5 1 4 6]\n",
      "Missing data in column TrainingTimesLastYear:  0\n"
     ]
    }
   ],
   "source": [
    "# cleaning column 'TrainingTimesLastYear'\n",
    "# to be an integer val\n",
    "print (\"Unique values in the TrainingTimesLastYear column: \",data['TrainingTimesLastYear'].unique())\n",
    "\n",
    "# identify for any missing values\n",
    "print (\"Missing data in column TrainingTimesLastYear: \", data['TrainingTimesLastYear'].isna().sum())\n",
    "data['TrainingTimesLastYear'] = data['TrainingTimesLastYear'].astype('int')"
   ]
  },
  {
   "cell_type": "code",
   "execution_count": 33,
   "metadata": {},
   "outputs": [
    {
     "name": "stdout",
     "output_type": "stream",
     "text": [
      "\n",
      "Unique values in the WorkLifeBalance column:  [1 3 2 4]\n",
      "Missing data in column WorkLifeBalance:  0\n"
     ]
    }
   ],
   "source": [
    "# cleaning column 'WorkLifeBalance'\n",
    "# to be an integer val\n",
    "print (\"\\nUnique values in the WorkLifeBalance column: \",data['WorkLifeBalance'].unique())\n",
    "\n",
    "# identify for any missing values\n",
    "print (\"Missing data in column WorkLifeBalance: \", data['WorkLifeBalance'].isna().sum())\n",
    "data['WorkLifeBalance'] = data['WorkLifeBalance'].astype('int')"
   ]
  },
  {
   "cell_type": "code",
   "execution_count": 34,
   "metadata": {},
   "outputs": [
    {
     "name": "stdout",
     "output_type": "stream",
     "text": [
      "\n",
      "Unique values in the YearsAtCompany column:  [ 6 10  0  8  2  7  1  9  5  4 25  3 12 14 22 15 27 21 17 11 13 37 16 20\n",
      " 40 24 33 19 36 18 29 31 32 34 26 30 23]\n",
      "Missing data in column YearsAtCompany:  0\n"
     ]
    }
   ],
   "source": [
    "# cleaning column 'YearsAtCompany'\n",
    "# to be an integer val\n",
    "print (\"\\nUnique values in the YearsAtCompany column: \",data['YearsAtCompany'].unique())\n",
    "\n",
    "# identify for any missing values\n",
    "print (\"Missing data in column YearsAtCompany: \", data['YearsAtCompany'].isna().sum())\n",
    "data['YearsAtCompany'] = data['YearsAtCompany'].astype('int')"
   ]
  },
  {
   "cell_type": "code",
   "execution_count": 35,
   "metadata": {},
   "outputs": [
    {
     "name": "stdout",
     "output_type": "stream",
     "text": [
      "\n",
      "Unique values in the YearsInCurrentRole column:  [ 4  7  0  2  5  9  8  3  6 13  1 15 14 16 11 10 12 18 17]\n",
      "Missing data in column YearsInCurrentRole:  0\n"
     ]
    }
   ],
   "source": [
    "# cleaning column 'YearsInCurrentRole'\n",
    "# to be an integer val\n",
    "print (\"\\nUnique values in the YearsInCurrentRole column: \",data['YearsInCurrentRole'].unique())\n",
    "\n",
    "# identify for any missing values\n",
    "print (\"Missing data in column YearsInCurrentRole: \", data['YearsInCurrentRole'].isna().sum())\n",
    "data['YearsInCurrentRole'] = data['YearsInCurrentRole'].astype('int')"
   ]
  },
  {
   "cell_type": "code",
   "execution_count": 36,
   "metadata": {},
   "outputs": [
    {
     "name": "stdout",
     "output_type": "stream",
     "text": [
      "\n",
      "Unique values in the YearsSinceLastPromotion column [ 0  1  3  2  7  4  8  6  5 15  9 13 12 10 11 14]\n",
      "Missing data in column YearsSinceLastPromotion:  0\n"
     ]
    }
   ],
   "source": [
    "# cleaning column 'YearsSinceLastPromotion'\n",
    "# to be an integer val\n",
    "print (\"\\nUnique values in the YearsSinceLastPromotion column\",data['YearsSinceLastPromotion'].unique())\n",
    "\n",
    "# identify for any missing values\n",
    "print (\"Missing data in column YearsSinceLastPromotion: \", data['YearsSinceLastPromotion'].isna().sum())\n",
    "data['YearsSinceLastPromotion'] = data['YearsSinceLastPromotion'].astype('int')"
   ]
  },
  {
   "cell_type": "code",
   "execution_count": 37,
   "metadata": {
    "colab": {
     "base_uri": "https://localhost:8080/"
    },
    "id": "e97e6701-ffd7-4205-8903-2448cf07f8ec",
    "outputId": "673f16a8-8e0d-4185-e699-98e7ccb1dd3a"
   },
   "outputs": [
    {
     "name": "stdout",
     "output_type": "stream",
     "text": [
      "\n",
      "Unique values in the YearsWithCurrManager column:  [ 5  7  0  2  6  8  3 11 17  1  4 12  9 10 15 13 16 14]\n",
      "Missing data in column YearsWithCurrentManager:  0\n"
     ]
    }
   ],
   "source": [
    "# cleaning column 'YearsWithCurrManager'\n",
    "# to be an integer val\n",
    "print (\"\\nUnique values in the YearsWithCurrManager column: \",data['YearsWithCurrManager'].unique())\n",
    "\n",
    "# identify for any missing values\n",
    "print (\"Missing data in column YearsWithCurrentManager: \",data['YearsWithCurrManager'].isna().sum())\n",
    "data['YearsWithCurrManager'] = data['YearsWithCurrManager'].astype('int')"
   ]
  },
  {
   "cell_type": "markdown",
   "metadata": {},
   "source": [
    "## <b>Data Analysis</b>\n",
    "\n",
    "Given that we loaded the dataset and have processed it, it is good to start evaluating various factors that lead to employee attrition. Given that there are various columns, by intuition, we pick certain broad aspects of what we evaluate to affect attrition. For this, on a high level we feel the need to determine whether or not the employees are concerned about the monetary aspects of their job. This is essential to determine as it provides a direction for the organization regarding its investment, and therefore what should the type of investment be - monetary or non-monetary for the well-being of its employees.\n",
    "\n",
    "With this, let us start on the analysis aspect to decide on what aspect of an individual's job weighs their retention in the organization more and drives employee satisfaction rate to be high."
   ]
  },
  {
   "cell_type": "markdown",
   "metadata": {},
   "source": [
    "### <font color='447EB1'><b>The role of monetary and non monetary incentives in the workplace as influenced by attrition</b></font>"
   ]
  },
  {
   "cell_type": "markdown",
   "metadata": {},
   "source": [
    "<p style='text-align: justify;'>\n",
    "Organizations have constantly been searching for ways to create a motivational environment where employees can work at their optimal levels to accomplish company objectives. Both monetary and nonmonetary incentives act as a great way to motivate employees in a workplace setting. The type of monetary incentives can be diverse but results in a similar effect on its employees. It is suggested that employees have varying needs pertaining to incentives depending on their age and often have traditional incentive packages replaced with alternatives to attract younger associates. In this section, we will analyze how monetary and nonmonetary incentives possibly influence the attrition of employees.\n",
    "</p>"
   ]
  },
  {
   "cell_type": "markdown",
   "metadata": {
    "id": "Ez8T8aYWUsEp",
    "jp-MarkdownHeadingCollapsed": true,
    "tags": []
   },
   "source": [
    "<p style='text-align: justify;'>\n",
    "The main aim of this analysis is to compare the factors influencing the monetary side of jobs and those influencing the non monetary side of jobs with respect to their effect on employee attrition.\n",
    "</p>"
   ]
  },
  {
   "cell_type": "markdown",
   "metadata": {},
   "source": [
    "<p style='text-align: justify;'>\n",
    "We start by analyzing all the columns that exist in the dataframe to help differentiate variables that correspond to the monetary incentives from the non monetary incentives.\n",
    "</p>"
   ]
  },
  {
   "cell_type": "markdown",
   "metadata": {
    "tags": []
   },
   "source": [
    "On observing the columns in the dataframe, we categorize the variables under each category as :\n",
    "\n",
    "##### `Monetary` : DailyRate, HourlyRate ($), MontlyIncome, MonthlyRate, SalaryHike (%), StockOptionLevel\n",
    "\n",
    "##### `Non - monetary` : BusinessTravel, DistanceFromHome (miles), EnvironmentSatisfaction, JobInvolvement, JobSatisfaction, RelationshipSatisfaction, TrainingTimesLastYear, WorkLifeBalance, YearsAtCompany, YearsInCurrentRole, YearsSinceLastPromotion, and YearsWithCurrentManager"
   ]
  },
  {
   "cell_type": "markdown",
   "metadata": {
    "tags": []
   },
   "source": [
    "#### <font color='4B8AC1'><b> Analyzing the monetary aspects </b></font>\n",
    "<p style='text-align: justify;'>\n",
    "Now that we have categorized the variables, we create a dataframe that holds all the variables corresponding to the monetary aspect of the workplace.\n",
    "</p>"
   ]
  },
  {
   "cell_type": "code",
   "execution_count": 35,
   "metadata": {
    "tags": []
   },
   "outputs": [],
   "source": [
    "data_monetary = data[['DailyRate','HourlyRate ($)','MonthlyIncome','MonthlyRate','SalaryHike (in %)','StockOptionLevel']]"
   ]
  },
  {
   "cell_type": "code",
   "execution_count": 36,
   "metadata": {},
   "outputs": [
    {
     "data": {
      "text/html": [
       "<div>\n",
       "<style scoped>\n",
       "    .dataframe tbody tr th:only-of-type {\n",
       "        vertical-align: middle;\n",
       "    }\n",
       "\n",
       "    .dataframe tbody tr th {\n",
       "        vertical-align: top;\n",
       "    }\n",
       "\n",
       "    .dataframe thead th {\n",
       "        text-align: right;\n",
       "    }\n",
       "</style>\n",
       "<table border=\"1\" class=\"dataframe\">\n",
       "  <thead>\n",
       "    <tr style=\"text-align: right;\">\n",
       "      <th></th>\n",
       "      <th>DailyRate</th>\n",
       "      <th>HourlyRate ($)</th>\n",
       "      <th>MonthlyIncome</th>\n",
       "      <th>MonthlyRate</th>\n",
       "      <th>SalaryHike (in %)</th>\n",
       "      <th>StockOptionLevel</th>\n",
       "    </tr>\n",
       "  </thead>\n",
       "  <tbody>\n",
       "    <tr>\n",
       "      <th>count</th>\n",
       "      <td>1470.000000</td>\n",
       "      <td>1470.000000</td>\n",
       "      <td>1470.000000</td>\n",
       "      <td>1470.000000</td>\n",
       "      <td>1470.000000</td>\n",
       "      <td>1470.000000</td>\n",
       "    </tr>\n",
       "    <tr>\n",
       "      <th>mean</th>\n",
       "      <td>802.485714</td>\n",
       "      <td>65.891156</td>\n",
       "      <td>6502.931293</td>\n",
       "      <td>14313.103401</td>\n",
       "      <td>15.209524</td>\n",
       "      <td>0.793878</td>\n",
       "    </tr>\n",
       "    <tr>\n",
       "      <th>std</th>\n",
       "      <td>403.509100</td>\n",
       "      <td>20.329428</td>\n",
       "      <td>4707.956783</td>\n",
       "      <td>7117.786044</td>\n",
       "      <td>3.659938</td>\n",
       "      <td>0.852077</td>\n",
       "    </tr>\n",
       "    <tr>\n",
       "      <th>min</th>\n",
       "      <td>102.000000</td>\n",
       "      <td>30.000000</td>\n",
       "      <td>1009.000000</td>\n",
       "      <td>2094.000000</td>\n",
       "      <td>11.000000</td>\n",
       "      <td>0.000000</td>\n",
       "    </tr>\n",
       "    <tr>\n",
       "      <th>25%</th>\n",
       "      <td>465.000000</td>\n",
       "      <td>48.000000</td>\n",
       "      <td>2911.000000</td>\n",
       "      <td>8047.000000</td>\n",
       "      <td>12.000000</td>\n",
       "      <td>0.000000</td>\n",
       "    </tr>\n",
       "    <tr>\n",
       "      <th>50%</th>\n",
       "      <td>802.000000</td>\n",
       "      <td>66.000000</td>\n",
       "      <td>4919.000000</td>\n",
       "      <td>14235.500000</td>\n",
       "      <td>14.000000</td>\n",
       "      <td>1.000000</td>\n",
       "    </tr>\n",
       "    <tr>\n",
       "      <th>75%</th>\n",
       "      <td>1157.000000</td>\n",
       "      <td>83.750000</td>\n",
       "      <td>8379.000000</td>\n",
       "      <td>20461.500000</td>\n",
       "      <td>18.000000</td>\n",
       "      <td>1.000000</td>\n",
       "    </tr>\n",
       "    <tr>\n",
       "      <th>max</th>\n",
       "      <td>1499.000000</td>\n",
       "      <td>100.000000</td>\n",
       "      <td>19999.000000</td>\n",
       "      <td>26999.000000</td>\n",
       "      <td>25.000000</td>\n",
       "      <td>3.000000</td>\n",
       "    </tr>\n",
       "  </tbody>\n",
       "</table>\n",
       "</div>"
      ],
      "text/plain": [
       "         DailyRate  HourlyRate ($)  MonthlyIncome   MonthlyRate  \\\n",
       "count  1470.000000     1470.000000    1470.000000   1470.000000   \n",
       "mean    802.485714       65.891156    6502.931293  14313.103401   \n",
       "std     403.509100       20.329428    4707.956783   7117.786044   \n",
       "min     102.000000       30.000000    1009.000000   2094.000000   \n",
       "25%     465.000000       48.000000    2911.000000   8047.000000   \n",
       "50%     802.000000       66.000000    4919.000000  14235.500000   \n",
       "75%    1157.000000       83.750000    8379.000000  20461.500000   \n",
       "max    1499.000000      100.000000   19999.000000  26999.000000   \n",
       "\n",
       "       SalaryHike (in %)  StockOptionLevel  \n",
       "count        1470.000000       1470.000000  \n",
       "mean           15.209524          0.793878  \n",
       "std             3.659938          0.852077  \n",
       "min            11.000000          0.000000  \n",
       "25%            12.000000          0.000000  \n",
       "50%            14.000000          1.000000  \n",
       "75%            18.000000          1.000000  \n",
       "max            25.000000          3.000000  "
      ]
     },
     "execution_count": 36,
     "metadata": {},
     "output_type": "execute_result"
    }
   ],
   "source": [
    "# Analysing the columns related to the monetary side of jobs\n",
    "\n",
    "data_monetary.describe()"
   ]
  },
  {
   "cell_type": "markdown",
   "metadata": {},
   "source": [
    "<p style='text-align: justify;'>\n",
    "To help understand the correlation of variables better, we visualize the strength of correlation between the columns that correspond to the monetary aspects of work through the plot as depicted below. \n",
    "</p>"
   ]
  },
  {
   "cell_type": "code",
   "execution_count": 37,
   "metadata": {},
   "outputs": [
    {
     "data": {
      "image/png": "[encoded data removed]",
      "text/plain": [
       "<Figure size 432x288 with 2 Axes>"
      ]
     },
     "metadata": {
      "needs_background": "light"
     },
     "output_type": "display_data"
    }
   ],
   "source": [
    "corr_matrix_monetary = data_monetary.corr()\n",
    "sns.heatmap(corr_matrix_monetary, annot=True, cmap=\"crest\", linewidths= 0.5)\n",
    "plt.show()"
   ]
  },
  {
   "cell_type": "markdown",
   "metadata": {},
   "source": [
    "<p style='text-align: justify;'>\n",
    "From the correlation plot above, it can be observed that the variables corresponding to the monetary aspects of a job are not strongly correlated to one another. What this means is that given they are no where closely correlated, they are independent of each other and therefore don't help in predicting any outcome.\n",
    "</p>"
   ]
  },
  {
   "cell_type": "markdown",
   "metadata": {},
   "source": [
    "#### <font color='4B8AC1'><b> Analyzing the non-monetary aspects </b></font>\n",
    "<p style='text-align: justify;'>\n",
    "We further create a dataframe that holds all the variables corresponding to the non-monetary aspects of a workplace. All columns that correspond to the non-monetary aspects of a job are grouped to help analyze whether or not there are any interdependencies. This is a significant step as we plan to construct a regression model eventually and eliminating variables that hold multicollinearity is of utmost importance to get the right prediction. Multicollinearity can be defined to be the state where multiple independent variables in a model are correlated.\n",
    "</p>"
   ]
  },
  {
   "cell_type": "code",
   "execution_count": 38,
   "metadata": {
    "tags": []
   },
   "outputs": [],
   "source": [
    "data_non_monetary = data[['BusinessTravel', 'DistanceFromHome (miles)','EnvironmentSatisfaction', 'JobInvolvement', \n",
    "                          'JobSatisfaction','RelationshipSatisfaction', 'TrainingTimesLastYear', 'WorkLifeBalance',\n",
    "                          'YearsAtCompany', 'YearsInCurrentRole', 'YearsSinceLastPromotion','YearsWithCurrManager']]"
   ]
  },
  {
   "cell_type": "markdown",
   "metadata": {},
   "source": [
    "<p style='text-align: justify;'>\n",
    "To help understand the correlation of variables better, we visualize the strength of correlation between the columns that correspond to the non-monetary aspects of work through the plot as depicted below. \n",
    "</p>"
   ]
  },
  {
   "cell_type": "code",
   "execution_count": 39,
   "metadata": {},
   "outputs": [
    {
     "data": {
      "image/png": "[encoded data removed]",
      "text/plain": [
       "<Figure size 432x288 with 2 Axes>"
      ]
     },
     "metadata": {
      "needs_background": "light"
     },
     "output_type": "display_data"
    }
   ],
   "source": [
    "corr_matrix_non_monetary = round(data_non_monetary.corr(),2)\n",
    "sns.heatmap(corr_matrix_non_monetary,cmap=\"crest\", annot = True)\n",
    "plt.show()"
   ]
  },
  {
   "cell_type": "markdown",
   "metadata": {},
   "source": [
    "#### <font color='4B8AC1'><b> Observations and outcomes from the plot above </b></font>\n",
    "\n",
    "<p style='text-align: justify;'>\n",
    "From the above plot, it is evident that among all the variables, the variables titled 'YearsAtCompany', 'YearsInCurrentRole', 'YearsSinceLastPromotion' and 'YearsWithCurrManager' depict a significantly positive and high correlation with one another. In order to prevent the issue of multi collinearity in the regression model that we will build in the subsequent steps below, the variables that hold higher correlation co efficients such as YearsAtCompany and YearsInCurrentRole are removed from the data. Furthermore, 'YearsSinceLastPromotion' and 'YearsInCurrentRole' are by logic, strongly dependent on each other.\n",
    "</p>\n",
    "We then update the dataframe to exclude the two columns to help eliminate multi collinearity."
   ]
  },
  {
   "cell_type": "code",
   "execution_count": 40,
   "metadata": {},
   "outputs": [],
   "source": [
    "# Dropping the variables 'YearsAtCompany' and 'YearsInCurrentRole' from the dataframe\n",
    "\n",
    "modified_data = data.drop(['YearsAtCompany', 'YearsInCurrentRole'], axis = \"columns\")"
   ]
  },
  {
   "cell_type": "markdown",
   "metadata": {},
   "source": [
    "<p style='text-align: justify;'>\n",
    "Creating a new dataset to consist of all the columns that were deemed to represent the monetary and non-monetary aspect of work.\n",
    "</p>"
   ]
  },
  {
   "cell_type": "code",
   "execution_count": 41,
   "metadata": {
    "tags": []
   },
   "outputs": [],
   "source": [
    "new_data = modified_data.copy()\n",
    "new_data = modified_data [['DailyRate','HourlyRate ($)','MonthlyIncome','MonthlyRate','SalaryHike (in %)','StockOptionLevel','BusinessTravel', \n",
    "                           'DistanceFromHome (miles)','EnvironmentSatisfaction', 'JobInvolvement', 'JobSatisfaction','RelationshipSatisfaction', \n",
    "                           'TrainingTimesLastYear', 'WorkLifeBalance','YearsSinceLastPromotion','YearsWithCurrManager']]"
   ]
  },
  {
   "cell_type": "markdown",
   "metadata": {},
   "source": [
    "<p style='text-align: justify;'>\n",
    "Given that the dataframe consists of categorical variables, we will introduce dummy variables to help with the further analysis.\n",
    "</p>"
   ]
  },
  {
   "cell_type": "code",
   "execution_count": 42,
   "metadata": {
    "tags": []
   },
   "outputs": [
    {
     "data": {
      "text/plain": [
       "Index(['BusinessTravel'], dtype='object')"
      ]
     },
     "execution_count": 42,
     "metadata": {},
     "output_type": "execute_result"
    }
   ],
   "source": [
    "# Finding all the columns that are categorical variables\n",
    "\n",
    "new_data.select_dtypes('object').columns"
   ]
  },
  {
   "cell_type": "markdown",
   "metadata": {},
   "source": [
    "<p style='text-align: justify;'>\n",
    "From the output above, it is notices that 'BusinessTravel' is the only categorical variable among all the columns. \n",
    "</p>"
   ]
  },
  {
   "cell_type": "code",
   "execution_count": 43,
   "metadata": {},
   "outputs": [
    {
     "data": {
      "text/plain": [
       "array(['Frequent', 'No', 'Rare'], dtype=object)"
      ]
     },
     "execution_count": 43,
     "metadata": {},
     "output_type": "execute_result"
    }
   ],
   "source": [
    "# Visualising the unique values in the BusinessTravel column\n",
    "np.unique(new_data['BusinessTravel'])"
   ]
  },
  {
   "cell_type": "markdown",
   "metadata": {},
   "source": [
    "<p style='text-align: justify;'>\n",
    "The BusinessTravel column has three unique values - Rare, Frequent and No. We shall convert these to represent No, Rare and Frequent to be 0, 1, and 2 respectively.\n",
    "</p>"
   ]
  },
  {
   "cell_type": "code",
   "execution_count": 44,
   "metadata": {},
   "outputs": [],
   "source": [
    "# Encoding the BusinessTravel column\n",
    "# Based on the frequency of BusinessTravel, the 'BusinessTravel' column will now be encoded as 0 for 'No', 2 for 'Frequent' and 1 for 'Rare'\n",
    "new_data.loc[:, 'BusinessTravel'] = new_data['BusinessTravel'].replace('Frequent', '2')\n",
    "new_data.loc[:, 'BusinessTravel'] = new_data['BusinessTravel'].replace('Rare', '1')\n",
    "new_data.loc[:, 'BusinessTravel'] = new_data['BusinessTravel'].replace('No', '0')"
   ]
  },
  {
   "cell_type": "code",
   "execution_count": 45,
   "metadata": {
    "tags": []
   },
   "outputs": [
    {
     "data": {
      "text/plain": [
       "0       1\n",
       "1       2\n",
       "2       1\n",
       "3       2\n",
       "4       1\n",
       "       ..\n",
       "1465    2\n",
       "1466    1\n",
       "1467    1\n",
       "1468    2\n",
       "1469    1\n",
       "Name: BusinessTravel, Length: 1470, dtype: object"
      ]
     },
     "execution_count": 45,
     "metadata": {},
     "output_type": "execute_result"
    }
   ],
   "source": [
    "# verifying the changes made to the column\n",
    "new_data['BusinessTravel']"
   ]
  },
  {
   "cell_type": "markdown",
   "metadata": {},
   "source": [
    "#### <font color='4B8AC1'><b> Building a classification model </b></font>\n",
    "<p style='text-align: justify;'>\n",
    "Now that we have all variables required, we construct a classification model using logistic regression where the Attrition column acts as the response variable. There are two classes of employees in the dataset - those who were attrited and those who weren't attrited. Given that the number of employees that were not attrited is greater than those that were attrited, we encounter an imbalance issue. Building a model with such imbalance can cause incorrect predictions which we would like to avoid. We overcome this class imbalance by using SMOTE.\n",
    "</p>"
   ]
  },
  {
   "cell_type": "code",
   "execution_count": 46,
   "metadata": {
    "tags": []
   },
   "outputs": [],
   "source": [
    "# Independent variables\n",
    "x = new_data\n",
    "\n",
    "# Response variable\n",
    "y = data['Attrition']"
   ]
  },
  {
   "cell_type": "markdown",
   "metadata": {},
   "source": [
    "#### <font color='4B8AC1'><b> Visualizing the frequency of the two classes </b></font>"
   ]
  },
  {
   "cell_type": "markdown",
   "metadata": {},
   "source": [
    "In the given dataset, the number of employees that have not been attrited are way higher than the number of employees who were attrited. It is reasonable as according to stats from <a href=\"https://www.zippia.com/advice/employee-turnover-statistics\"> ZIPPIA</a>, a career expertise firm, the company says, \"Companies lose 18% of their workforce to turnover each year...\".\n",
    "\n",
    "We shall now split our data into training and validation set. We will use split value of .8 which means 80% of the data will be used as training and 20% of the data will be used for validation.\n",
    "\n",
    "Then we will run regression of training data using the independent variables that we chose earlier."
   ]
  },
  {
   "cell_type": "code",
   "execution_count": 47,
   "metadata": {},
   "outputs": [
    {
     "data": {
      "text/plain": [
       "1    1233\n",
       "0    1233\n",
       "Name: Attrition, dtype: int64"
      ]
     },
     "execution_count": 47,
     "metadata": {},
     "output_type": "execute_result"
    }
   ],
   "source": [
    "#Handling class imbalance\n",
    "random.seed(10)\n",
    "from imblearn.over_sampling import SMOTE\n",
    "smote = SMOTE(sampling_strategy='minority',random_state= 52)\n",
    "x ,y = smote.fit_resample(x ,y)\n",
    "y.value_counts()"
   ]
  },
  {
   "cell_type": "code",
   "execution_count": 48,
   "metadata": {
    "tags": []
   },
   "outputs": [],
   "source": [
    "# Splitting the data into training and testing\n",
    "x_train , x_test , y_train ,y_test = train_test_split(x , y, test_size=0.2 , random_state= 52)"
   ]
  },
  {
   "cell_type": "code",
   "execution_count": 49,
   "metadata": {},
   "outputs": [],
   "source": [
    "# Normalising the variables\n",
    "\n",
    "scaler = StandardScaler()\n",
    "x_train = scaler.fit_transform(x_train)\n",
    "x_test = scaler.transform(x_test)"
   ]
  },
  {
   "cell_type": "code",
   "execution_count": 50,
   "metadata": {},
   "outputs": [],
   "source": [
    "# Fitting the model\n",
    "\n",
    "log_reg = LogisticRegression(solver='liblinear', penalty='l1')\n",
    "classification_model = log_reg.fit(x_train, y_train)"
   ]
  },
  {
   "cell_type": "markdown",
   "metadata": {},
   "source": [
    "#### <font color='4B8AC1'><b> Checking the accuracy of the model </b><font>"
   ]
  },
  {
   "cell_type": "code",
   "execution_count": 51,
   "metadata": {},
   "outputs": [
    {
     "name": "stdout",
     "output_type": "stream",
     "text": [
      "The accuracy of the model is: 0.84\n"
     ]
    }
   ],
   "source": [
    "ytest_pred = classification_model.predict(x_test)\n",
    "ytrain_pred = classification_model.predict(x_train)\n",
    "\n",
    "score = accuracy_score(y_test ,ytest_pred)\n",
    "print(\"The accuracy of the model is:\",round(score,2))"
   ]
  },
  {
   "cell_type": "code",
   "execution_count": 52,
   "metadata": {},
   "outputs": [
    {
     "name": "stdout",
     "output_type": "stream",
     "text": [
      "              precision    recall  f1-score   support\n",
      "\n",
      "           0       0.87      0.80      0.83       252\n",
      "           1       0.81      0.88      0.84       242\n",
      "\n",
      "    accuracy                           0.84       494\n",
      "   macro avg       0.84      0.84      0.84       494\n",
      "weighted avg       0.84      0.84      0.84       494\n",
      "\n"
     ]
    }
   ],
   "source": [
    "# Visualizing the performance of the model\n",
    "# Analysing how the model works on each class\n",
    "\n",
    "print(classification_report(ytest_pred,y_test))"
   ]
  },
  {
   "cell_type": "markdown",
   "metadata": {},
   "source": [
    "\n",
    "Recalls refers to what proportion of actual positives was identified correctly and Precision refers to what proportion of positive identifications was accurately identified."
   ]
  },
  {
   "cell_type": "markdown",
   "metadata": {},
   "source": [
    "#### <font color='4B8AC1'><b> Weighing the importance of each feature in reference to the response variable </b></font>"
   ]
  },
  {
   "cell_type": "markdown",
   "metadata": {},
   "source": [
    "<p style='text-align: justify;'>\n",
    "For a given tabular form of data, one can use a fitted estimator technique known as permutation feature importance to evaluate the importance of each variable. The permutation feature importance is known to decrease the model score when a single feature value is shuffled. This process helps break the relationship between the feature and target thereby indicating how a drop in the model score shows its dependency of the model on the feature.\n",
    "</p>"
   ]
  },
  {
   "cell_type": "code",
   "execution_count": 53,
   "metadata": {},
   "outputs": [
    {
     "data": {
      "text/plain": [
       "array([0.0097166 , 0.01497976, 0.02753036, 0.00323887, 0.00323887,\n",
       "       0.051417  , 0.03684211, 0.00526316, 0.02105263, 0.06275304,\n",
       "       0.05222672, 0.01902834, 0.02186235, 0.02793522, 0.02550607,\n",
       "       0.04696356])"
      ]
     },
     "execution_count": 53,
     "metadata": {},
     "output_type": "execute_result"
    }
   ],
   "source": [
    "# The logistic regression model is passed as input along with the test data\n",
    "\n",
    "factor_weights = permutation_importance(classification_model, x_test, y_test)\n",
    "# print(perm_importance)\n",
    "factor_weights.importances_mean"
   ]
  },
  {
   "cell_type": "code",
   "execution_count": 54,
   "metadata": {},
   "outputs": [],
   "source": [
    "# Getting the incides of the mean of importances of each feature \n",
    "variables = new_data.columns\n",
    "sorted_idx = factor_weights.importances_mean.argsort()\n",
    "\n",
    "# Getting the mean importances in ascending order\n",
    "importances = factor_weights.importances_mean[sorted_idx].round(3)\n",
    "variables = variables[sorted_idx]"
   ]
  },
  {
   "cell_type": "code",
   "execution_count": 55,
   "metadata": {
    "tags": []
   },
   "outputs": [
    {
     "data": {
      "text/plain": [
       "Text(0.5, 1.0, 'Effect of various monetary and non-monetary factors on Attrition')"
      ]
     },
     "execution_count": 55,
     "metadata": {},
     "output_type": "execute_result"
    },
    {
     "data": {
      "image/png": "[encoded data removed]",
      "text/plain": [
       "<Figure size 1008x720 with 1 Axes>"
      ]
     },
     "metadata": {
      "needs_background": "light"
     },
     "output_type": "display_data"
    }
   ],
   "source": [
    " #Plotting all the variables vs their importances \n",
    "    \n",
    "variables = np.array(variables)\n",
    "plt.figure(figsize = (14 ,10))    \n",
    "ax = sns.barplot(y = variables, x = importances,palette='GnBu')\n",
    "\n",
    "for i in ax.containers:\n",
    "    ax.bar_label(i,)\n",
    "\n",
    "plt.xlabel(\"Level of effect on Attrition\",fontsize=20)\n",
    "plt.ylabel(\"Factors effecting Attrition\",fontsize=20)\n",
    "plt.title('Effect of various monetary and non-monetary factors on Attrition',fontsize=20)"
   ]
  },
  {
   "cell_type": "markdown",
   "metadata": {},
   "source": [
    "#### <font color='4B8AC1'> <b> Insights drawn to evaluate which aspect of a job weighs more </b></font>\n",
    "\n",
    "<p style='text-align: justify;'>\n",
    "From the above plot it is seen that among the top factors that influence attrition, only - 'StockOptionLevel' belongs to the monetary side of jobs whereas all the oher factors like-'JobSatisfaction','YearsWithCurrManager','JobInvolvement' and so on, which belong to the non-monetary side of jobs, have high importance values and hence influence Attrition to a much larger extent.The monetary factors like 'Monthly Rate','Monthly Income' and 'PercentSalayHike' have lesser effect on attrition.\n",
    "</p>\n",
    "<p style='text-align: justify;'>\n",
    "Hence, based on the dataset it can be concluded that the non-monetary side of jobs is more important for an employee and they influence attrition of an employee to a larger extent than monetary side of jobs.\n",
    "</p>"
   ]
  },
  {
   "cell_type": "markdown",
   "metadata": {},
   "source": [
    "<p style='text-align: justify;'>\n",
    "Now that we have evaluated that the non-monetary aspects of a workplace weigh more for an employee, let us further analyze its impacts on each individual working for the organization. Given that the dataset consists of only male and female employees, it is good to understand if each of these genders have any common factors that lead to their exit from the organization.\n",
    "</p>"
   ]
  },
  {
   "cell_type": "markdown",
   "metadata": {},
   "source": [
    "## <font color='447EB1'><b> The key factors that help decide the exit of an employee gender wise </b></font>\n",
    "\n",
    "<p style='text-align: justify;'>\n",
    "Our main motive in this analysis is to find the combination of factors that directly influence the attrition rate for both male and female employees within an organization.\n",
    "</p>\n",
    "To help with this analysis, we will analyze some of the columns such as :\n",
    "<br><br>\n",
    "`Hourly Rate (Salary)`\n",
    "- Hypothesis: Genders with Hourly Salary on the lower end (when compared to the average rate) tend to have a higher attrition rate.\n",
    "- Method of approach: Finding the mean salary for each gender and finding the attrition percentage for indivisuals that earni both lower and higher rates than the mean wage.\n",
    "- Making our analysis more granular by comparing the education level of employees earning higher/lower salaries and verifying whether people with a high level of education and lower salaries tend to have attrition rates or not?\n",
    "    \n",
    "`Marital Status`\n",
    "    \n",
    "- Hypothesis: Do Single, Divorced or Married people have more attrition rate for each gender.\n",
    "- Method of Approach: Plotting a visualization graph to visually understand how marital status affects different genders to stay with the company or quit?\n",
    "\n",
    "`Work Life Balance`\n",
    "- Hypothesis: Are females better at creating a worklife balance than males?\n",
    "- Method of Approach: Calculate average work-life balance score for each gender and map it with the attrition column. Does having a high work-life balance lead to less attrition? \n",
    "\n",
    "`Percent Salary Hike`\n",
    "- Hypothesis: Do Males tend to get a higher percent salary hike than females? Does this affect the morale of the workplace?\n",
    "- Method of Approach: Calculate the average percent salary hike for both genders and map it with attrition to see whether getting a low salary hike leads to more attrition?\n"
   ]
  },
  {
   "cell_type": "markdown",
   "metadata": {},
   "source": [
    "We shall cover each variable that we anticipate might affect the decision making of each gender in each of the sections below. "
   ]
  },
  {
   "cell_type": "markdown",
   "metadata": {},
   "source": [
    "#### <font color='4B8AC1'><b> Analyzing on basis of Hourly Wages and Education Levels </b></font>\n",
    "\n",
    "\n",
    "We will first gather data for Hourly Rate with respect to each gender to help understand the underlying statistics."
   ]
  },
  {
   "cell_type": "code",
   "execution_count": 56,
   "metadata": {},
   "outputs": [
    {
     "name": "stdout",
     "output_type": "stream",
     "text": [
      "Statistics of Male Income\n",
      "\n",
      " count    882.000000\n",
      "mean      65.883220\n",
      "std       20.172327\n",
      "min       30.000000\n",
      "25%       48.000000\n",
      "50%       65.000000\n",
      "75%       84.000000\n",
      "max      100.000000\n",
      "Name: HourlyRate ($), dtype: float64\n"
     ]
    }
   ],
   "source": [
    "# describing the statistics of hourly wages for Male Employees\n",
    "male_hourly_rate = data.loc[data['Gender']=='M', 'HourlyRate ($)'].describe()\n",
    "print(\"Statistics of Male Income\\n\\n\", male_hourly_rate)"
   ]
  },
  {
   "cell_type": "code",
   "execution_count": 57,
   "metadata": {},
   "outputs": [
    {
     "name": "stdout",
     "output_type": "stream",
     "text": [
      "Statistics of Female Income\n",
      "\n",
      " count    588.000000\n",
      "mean      65.903061\n",
      "std       20.580067\n",
      "min       30.000000\n",
      "25%       48.000000\n",
      "50%       67.000000\n",
      "75%       83.000000\n",
      "max      100.000000\n",
      "Name: HourlyRate ($), dtype: float64\n"
     ]
    }
   ],
   "source": [
    "# describing the statistics of hourly wages for Female Employees\n",
    "female_hourly_rate = data.loc[data['Gender'] == 'F', 'HourlyRate ($)'].describe()\n",
    "print(\"Statistics of Female Income\\n\\n\", female_hourly_rate)"
   ]
  },
  {
   "cell_type": "markdown",
   "metadata": {},
   "source": [
    "<br>\n",
    "<p style='text-align: justify;'>\n",
    "On analyzing the statistical summary above, we observe that despite having more men than women, we observe that the mean income, median income, and all other statistics are more or less similar when compared. This results in a need to get more specific in order to comprehend their attrition rates.\n",
    "</p>    \n",
    "<p style='text-align: justify;'>\n",
    "In order to help narrow down, we next verify the number of employees that are below or higher than the average salary belonging to each gender. This helps with the common question of whether those that earn significantly lesser are more likely to leave the organization.\n",
    "</p>"
   ]
  },
  {
   "cell_type": "code",
   "execution_count": 58,
   "metadata": {},
   "outputs": [
    {
     "name": "stdout",
     "output_type": "stream",
     "text": [
      "\n",
      "------------------------------- Attrition Analysis by Hourly Pay Rate -------------------------------\n",
      "\n",
      "\t\t\t\tHourly Wage\t Female\t\t  Male\n",
      "\n",
      "\t\t\t\tBelow mean \t 51.72 % \t 48.67 %\n",
      "\n",
      "\t\t\t\tAbove mean \t 48.28 % \t 51.33 %\n"
     ]
    }
   ],
   "source": [
    "# finding percentage of people attrited whose salary is below mean and above mean for males\n",
    "male_hourly_rate_below_mean = ((data.loc[(data['Gender']=='M') & (data['HourlyRate ($)'] < male_hourly_rate[1]) & \n",
    "                                         (data['Attrition'] == '1')].shape[0])/(data.loc[(data['Attrition']=='1') & \n",
    "                                         (data['Gender']=='M')].shape[0]))*100\n",
    "male_hourly_rate_above_mean = ((data.loc[(data['Gender']=='M') & (data['HourlyRate ($)'] > male_hourly_rate[1]) & \n",
    "                                         (data['Attrition'] == '1')].shape[0])/(data.loc[(data['Attrition']=='1') & \n",
    "                                         (data['Gender']=='M')].shape[0]))*100\n",
    "\n",
    "# finding percentage of people attrited whose salary is below mean and above mean for females\n",
    "female_hourly_rate_below_mean = ((data.loc[(data['Gender']=='F') & (data['HourlyRate ($)'] < male_hourly_rate[1]) & \n",
    "                                           (data['Attrition'] == '1')].shape[0])/(data.loc[(data['Attrition']=='1') & \n",
    "                                           (data['Gender']=='F')].shape[0]))*100\n",
    "female_hourly_rate_above_mean = ((data.loc[(data['Gender']=='F') & (data['HourlyRate ($)'] > male_hourly_rate[1]) & \n",
    "                                           (data['Attrition'] == '1')].shape[0])/(data.loc[(data['Attrition']=='1') & \n",
    "                                           (data['Gender']=='F')].shape[0]))*100\n",
    "\n",
    "# Displaying Output in a report Format\n",
    "\n",
    "print(\"\\n------------------------------- Attrition Analysis by Hourly Pay Rate -------------------------------\")\n",
    "print(\"\\n\\t\\t\\t\\tHourly Wage\\t Female\\t\\t  Male\")\n",
    "print(\"\\n\\t\\t\\t\\tBelow mean \\t %.2f\" %female_hourly_rate_below_mean + \" %% \\t %.2f\" %male_hourly_rate_below_mean + \" %\")\n",
    "print(\"\\n\\t\\t\\t\\tAbove mean \\t %.2f\" %female_hourly_rate_above_mean + \" %% \\t %.2f\" %male_hourly_rate_above_mean + \" %\")"
   ]
  },
  {
   "cell_type": "markdown",
   "metadata": {},
   "source": [
    "***"
   ]
  },
  {
   "cell_type": "markdown",
   "metadata": {},
   "source": [
    "<p style='text-align: justify;'>\n",
    "According to the data above, both genders experience similar rates of attrition among those earning below and above the mean. This shows that we must be more specific in our analysis. The second theory we can test is that the individuals who have higher levels of education and lower pay rates frequently leave their employers. Analyzing this trend with regard to both genders will help us see how it unfolds.\n",
    "</p>\n",
    "<br>\n",
    "\n",
    "We will divide the Education Level of Employees into three categories:\n",
    "- Category 1: 'Below College' and 'College'\n",
    "- Category 2: 'Bachelor'\n",
    "- Category 3: 'Master' and 'Doctor'\n",
    "\n",
    "We will find out the attrition rate for each of the genders who earn below mean hourly wage with respect to their level of education."
   ]
  },
  {
   "cell_type": "code",
   "execution_count": 59,
   "metadata": {},
   "outputs": [
    {
     "data": {
      "image/png": "[encoded data removed]",
      "text/plain": [
       "<Figure size 800x300 with 2 Axes>"
      ]
     },
     "metadata": {},
     "output_type": "display_data"
    }
   ],
   "source": [
    "# calculating attrition rates for males by education level and income lower than mean \n",
    "male_education_category_1 = ((data.loc[(data['Gender']=='M') & (data['HourlyRate ($)'] < male_hourly_rate[1]) & \n",
    "                                       ((data['Education'] == 'Below College') | (data['Education'] == 'College')) & \n",
    "                                       (data['Attrition'] == '1')].shape[0])/(data.loc[(data['Attrition']=='1') & (data['Gender']=='M') & \n",
    "                                       (data['HourlyRate ($)'] < male_hourly_rate[1])].shape[0]))*100\n",
    "\n",
    "male_education_category_2 = ((data.loc[(data['Gender']=='M') & (data['HourlyRate ($)'] < male_hourly_rate[1]) & \n",
    "                                     ((data['Education'] == 'Bachelor')) & (data['Attrition'] == '1')].shape[0])/(data.loc[(data['Attrition']=='1') &\n",
    "                                       (data['Gender']=='M') & (data['HourlyRate ($)'] < male_hourly_rate[1])].shape[0]))*100\n",
    "\n",
    "male_education_category_3 = ((data.loc[(data['Gender']=='M') & (data['HourlyRate ($)'] < male_hourly_rate[1]) & \n",
    "                                       ((data['Education'] == 'Master') | (data['Education'] == 'Doctor')) & \n",
    "                                       (data['Attrition'] == '1')].shape[0])/(data.loc[(data['Attrition']=='1') & (data['Gender']=='M') & \n",
    "                                       (data['HourlyRate ($)'] < male_hourly_rate[1])].shape[0]))*100\n",
    "\n",
    "# calculating attrition rates for females by education level and income lower than mean\n",
    "female_education_category_1 = ((data.loc[(data['Gender']=='F') & (data['HourlyRate ($)'] < female_hourly_rate[1]) & \n",
    "                                         ((data['Education'] == 'Below College') | (data['Education'] == 'College')) & \n",
    "                                         (data['Attrition'] == '1')].shape[0])/(data.loc[(data['Attrition']=='1') & (data['Gender']=='F') & \n",
    "                                         (data['HourlyRate ($)'] < female_hourly_rate[1])].shape[0]))*100\n",
    "female_education_category_2 = ((data.loc[(data['Gender']=='F') & (data['HourlyRate ($)'] < female_hourly_rate[1]) & \n",
    "                                         ((data['Education'] == 'Bachelor')) & \n",
    "                                         (data['Attrition'] == '1')].shape[0])/(data.loc[(data['Attrition']=='1') & \n",
    "                                         (data['Gender']=='F') & (data['HourlyRate ($)'] < female_hourly_rate[1])].shape[0]))*100\n",
    "female_education_category_3 = ((data.loc[(data['Gender']=='F') & (data['HourlyRate ($)'] < female_hourly_rate[1]) & \n",
    "                                         ((data['Education'] == 'Master') | (data['Education'] == 'Doctor')) & \n",
    "                                         (data['Attrition'] == '1')].shape[0])/(data.loc[(data['Attrition']=='1') & \n",
    "                                         (data['Gender']=='F') & (data['HourlyRate ($)'] < female_hourly_rate[1])].shape[0]))*100\n",
    "\n",
    "# creating a pie chart to represent both the above findings\n",
    "fig = plt.figure(figsize=(8,3),dpi=100)\n",
    "ax1 = fig.add_subplot(121)\n",
    "male_data = [male_education_category_1, male_education_category_2, male_education_category_3]\n",
    "labels = ['Below College & College', 'Bachelor', 'Master & Doctor']\n",
    "\n",
    "# making a customer color palette for the graphs\n",
    "\n",
    "color_scheme = [\"#D6F8B8\", \"#ACDEAA\", \"#8FBBAF\", \"#6B7B8E\"]\n",
    "\n",
    "plt.title(\"Attrition By Education Among lower earning Male and Female Employees\")\n",
    "# plotting the first pie plot\n",
    "plot1 = ax1.pie(male_data, colors = color_scheme, autopct='%.2f%%')\n",
    "\n",
    "plt.figtext(0.27,0.1,\"Male                                                                       Female\")\n",
    "# plotting the second pie plot\n",
    "ax2 = fig.add_subplot(122)\n",
    "female_data = [female_education_category_1, female_education_category_2, female_education_category_3]\n",
    "plot2 = ax2.pie(female_data, colors = color_scheme, autopct='%.f%%')\n",
    "ax2.legend(labels, loc=\"best\", bbox_to_anchor=(0.5, 0.5, 1.5, 0.5), fontsize='medium')\n",
    "plt.show()\n"
   ]
  },
  {
   "cell_type": "markdown",
   "metadata": {},
   "source": [
    "From the above pie-chart, it can be inferred that __27.40 %__ of the male employees and __22%__ of females are well qualified but earn less than the average wages.\n",
    "    \n",
    "Some of the reasons for lower salaries among highly educated people can be:\n",
    "- Many candidates frequently hold positions for which they are overqualified. As a result, such employees' remuneration does not correspond to their degree of education.\n",
    "- Sometimes candidates with higher degrees do not want to wait to join into competitive markets because of the continuously shifting and uncertain economic situations, so they end up accepting the job they are offered right away."
   ]
  },
  {
   "cell_type": "markdown",
   "metadata": {},
   "source": [
    "#### <font color='4B8AC1'><b> Analyzing on basis of Marital Status </b></font>"
   ]
  },
  {
   "cell_type": "code",
   "execution_count": 60,
   "metadata": {},
   "outputs": [],
   "source": [
    "# calculating attrition by marital status for Males\n",
    "\n",
    "male_single = ((data.loc[(data['MaritalStatus']=='0') & (data['Gender']=='M') & \n",
    "                         (data['Attrition']=='1')].shape[0])/(data.loc[(data['Gender']=='M') & (data['Attrition']=='1')]).shape[0])*100\n",
    "male_married = ((data.loc[(data['MaritalStatus']=='1') & (data['Gender']=='M') & \n",
    "                          (data['Attrition']=='1')].shape[0])/(data.loc[(data['Gender']=='M') & (data['Attrition']=='1')]).shape[0])*100\n",
    "male_divorced = ((data.loc[(data['MaritalStatus']=='2') & (data['Gender']=='M') & \n",
    "                           (data['Attrition']=='1')].shape[0])/(data.loc[(data['Gender']=='M') & (data['Attrition']=='1')]).shape[0])*100\n",
    "\n",
    "# calculating attrition by marital status for Females\n",
    "\n",
    "female_single = ((data.loc[(data['MaritalStatus']=='0') & (data['Gender']=='F') & \n",
    "                           (data['Attrition']=='1')].shape[0])/(data.loc[(data['Gender']=='F') & (data['Attrition']=='1')]).shape[0])*100\n",
    "female_married = ((data.loc[(data['MaritalStatus']=='1') & (data['Gender']=='F') & \n",
    "                            (data['Attrition']=='1')].shape[0])/(data.loc[(data['Gender']=='F') & (data['Attrition']=='1')]).shape[0])*100\n",
    "female_divorced = ((data.loc[(data['MaritalStatus']=='2') & (data['Gender']=='F') & \n",
    "                             (data['Attrition']=='1')].shape[0])/(data.loc[(data['Gender']=='F') & (data['Attrition']=='1')]).shape[0])*100\n"
   ]
  },
  {
   "cell_type": "code",
   "execution_count": 61,
   "metadata": {},
   "outputs": [
    {
     "data": {
      "image/png": "[encoded data removed]",
      "text/plain": [
       "<Figure size 800x300 with 2 Axes>"
      ]
     },
     "metadata": {},
     "output_type": "display_data"
    }
   ],
   "source": [
    "# plotting a Donut chart for Males\n",
    "\n",
    "male_marital_data = [male_single, male_married, male_divorced]\n",
    "labels = ['Single', 'Married', 'Divorced']\n",
    "fig = plt.figure(figsize=(8,3),dpi=100)\n",
    "ax1 = fig.add_subplot(121)  \n",
    "plt.title(\"Attrition By Marital Status among Employees\")\n",
    "plt.pie(male_marital_data, colors = color_scheme, autopct='%.2f%%')\n",
    "# draw circle\n",
    "centre_circle = plt.Circle((0, 0), 0.70, fc='white')\n",
    "fig = plt.gcf()\n",
    "# Adding Circle in Pie chart\n",
    "fig.gca().add_artist(centre_circle)\n",
    "\n",
    "ax2 = fig.add_subplot(122)\n",
    "female_marital_data = [female_single, female_married, female_divorced]\n",
    "plt.pie(female_marital_data, colors = color_scheme, autopct='%.2f%%')\n",
    "centre_circle = plt.Circle((0, 0), 0.70, fc='white')\n",
    "fig = plt.gcf()\n",
    "plt.figtext(0.27,0.1,\"Male                                                                       Female\")  \n",
    "# Adding Circle in Pie chart\n",
    "fig.gca().add_artist(centre_circle)\n",
    "plt.legend(labels, loc=\"best\", bbox_to_anchor=(0.5, 0.5, 1.5, 0.5), fontsize='large')\n",
    "plt.legend(labels, loc=\"best\", bbox_to_anchor=(0.5, 0.5, 1.5, 0.5), fontsize='large')\n",
    "plt.show()"
   ]
  },
  {
   "cell_type": "markdown",
   "metadata": {},
   "source": [
    "<br>\n",
    "\n",
    "From the above donut charts, we can observe the following:\n",
    "\n",
    "- Among the male employees:\n",
    "    - Single: __48.67%__\n",
    "    - Married: __35.33%__\n",
    "    - Divorced: __16.00%__\n",
    "    \n",
    "- Among the Female employees:\n",
    "    - Single: __54.02%__\n",
    "    - Married: __35.63%__\n",
    "    - Divorced: __10.34%__ \n",
    "    \n",
    "***\n",
    "<p style='text-align: justify;'>\n",
    "According to the analysis above, more single female employees exhibit higher attrition rates  than  female employees who are married. Additionally, compared to married workers, single workers have greater attrition rates. These are some potential causes:\n",
    "</p>\n",
    "\n",
    "- Generally speaking, compared to married employees, many single employees are not constrained by family obligations. As a result, they can move jobs more easily whenever they find better ones, regardless of the job's location, as relocating is not a big deal for them. Additionally, the employer they are joining frequently extends a generous relocation incentive, which is hard to refuse.\n",
    "\n",
    "_What measures can the company undertake to reduce attrition due to marital status?_\n",
    "- Flexibility in work hours is essential for keeping married employees who have families, committed to the organization. Additionally, offering health, dentistry, and vision insurance to every employee's family member can aid in lowering attrition rates. Last but not least, in order to support employees in maintaining a healthy work-life balance, work-from-home options should be made available to those, particularly female employees, who have young children to care for.\n",
    "- Employees, especially those who are single, look for vacation time to escape their daily routine. By giving workers a sufficient amount of vacation days to boost productivity and ensuring that they don't quit the firm too easily, employers can reduce attrition rates."
   ]
  },
  {
   "cell_type": "markdown",
   "metadata": {},
   "source": [
    "#### <font color='4B8AC1'><b> Analyzing on basis of Work Life Balance </b></font>"
   ]
  },
  {
   "cell_type": "code",
   "execution_count": 62,
   "metadata": {},
   "outputs": [
    {
     "name": "stdout",
     "output_type": "stream",
     "text": [
      "Statistics of Male Work Life Balance score\n",
      "\n",
      " count    882.000000\n",
      "mean       2.759637\n",
      "std        0.717103\n",
      "min        1.000000\n",
      "25%        2.000000\n",
      "50%        3.000000\n",
      "75%        3.000000\n",
      "max        4.000000\n",
      "Name: WorkLifeBalance, dtype: float64\n"
     ]
    }
   ],
   "source": [
    "# statistics of work life balance score for male employees\n",
    "\n",
    "male_worklife_balance = data.loc[data['Gender']=='M', 'WorkLifeBalance'].describe()\n",
    "print(\"Statistics of Male Work Life Balance score\\n\\n\", male_worklife_balance)"
   ]
  },
  {
   "cell_type": "code",
   "execution_count": 63,
   "metadata": {},
   "outputs": [
    {
     "name": "stdout",
     "output_type": "stream",
     "text": [
      "Statistics of Female Work Life Balance score\n",
      "\n",
      " count    588.000000\n",
      "mean       2.763605\n",
      "std        0.690827\n",
      "min        1.000000\n",
      "25%        2.000000\n",
      "50%        3.000000\n",
      "75%        3.000000\n",
      "max        4.000000\n",
      "Name: WorkLifeBalance, dtype: float64\n"
     ]
    }
   ],
   "source": [
    "# statistics of work life balance score for female employees\n",
    "\n",
    "female_worklife_balance = data.loc[data['Gender']=='F', 'WorkLifeBalance'].describe()\n",
    "print(\"Statistics of Female Work Life Balance score\\n\\n\", female_worklife_balance)"
   ]
  },
  {
   "cell_type": "markdown",
   "metadata": {},
   "source": [
    "<br>\n",
    "<p style='text-align: justify;'>\n",
    "From the information provided above, we can conclude that both male and female employees have nearly equal average scores for work-life balance. In order to do our research, we must first determine the percentage of each gender whose work-life balance is below and above the mean score. Additionally, we must examine the attrition rates for each category for each gender. This will allow us to identify which gender is better at balancing work and personal life.\n",
    "</p>"
   ]
  },
  {
   "cell_type": "code",
   "execution_count": 64,
   "metadata": {},
   "outputs": [],
   "source": [
    "# male worklife balance distribution compared to the mean\n",
    "male_worklife_above_mean = (data.loc[(data['Gender']=='M') & \n",
    "                                     (data['WorkLifeBalance']>=male_worklife_balance[1])].shape[0])*100/(data.loc[data['Gender']=='M'].shape[0])\n",
    "male_worklife_below_mean = (data.loc[(data['Gender']=='M') & \n",
    "                                     (data['WorkLifeBalance']<male_worklife_balance[1])].shape[0])*100/(data.loc[data['Gender']=='M'].shape[0])\n",
    "\n",
    "# female worklife balance distribution compared to the mean\n",
    "female_worklife_above_mean = (data.loc[(data['Gender']=='F') & \n",
    "                                       (data['WorkLifeBalance']>=female_worklife_balance[1])].shape[0])*100/(data.loc[data['Gender']=='F'].shape[0])\n",
    "female_worklife_below_mean = (data.loc[(data['Gender']=='F') & \n",
    "                                       (data['WorkLifeBalance']<female_worklife_balance[1])].shape[0])*100/(data.loc[data['Gender']=='F'].shape[0])"
   ]
  },
  {
   "cell_type": "code",
   "execution_count": 65,
   "metadata": {},
   "outputs": [
    {
     "name": "stdout",
     "output_type": "stream",
     "text": [
      "\n",
      "------------------------------- Attrition Analysis by Work Life Balance  -------------------------------\n",
      "\n",
      "\t\t\t\tWorkLife Balance\t Female\t\t  Male\n",
      "\n",
      "\t\t\t\tBelow mean \t\t 28.23 % \t 29.25 %\n",
      "\n",
      "\t\t\t\tAbove mean \t\t 71.77 % \t 70.75 %\n"
     ]
    }
   ],
   "source": [
    "# Displaying Output of Worklife balance in a report Format\n",
    "\n",
    "print(\"\\n------------------------------- Attrition Analysis by Work Life Balance  -------------------------------\")\n",
    "print(\"\\n\\t\\t\\t\\tWorkLife Balance\\t Female\\t\\t  Male\")\n",
    "print(\"\\n\\t\\t\\t\\tBelow mean \\t\\t %.2f\" %female_worklife_below_mean + \" %% \\t %.2f\" %male_worklife_below_mean + \" %\")\n",
    "print(\"\\n\\t\\t\\t\\tAbove mean \\t\\t %.2f\" %female_worklife_above_mean + \" %% \\t %.2f\" %male_worklife_above_mean + \" %\")"
   ]
  },
  {
   "cell_type": "markdown",
   "metadata": {},
   "source": [
    "***\n",
    "\n",
    "From the above analysis, we can see that __71.77%__ of female employees and __70.75%__ of male employees have a work-life balance above the average worklife balance score with respect to other females and males respectively.\n",
    "<br>\n",
    "<p style='text-align: justify;'>\n",
    "In order to investigate further, we must add the Attrition Levels to each of the aforementioned categories in order to fine-tune our study. That would enable us to ascertain whether those with work-life balance below the mean are more likely to experience attrition or vice versa, and how their situation compares to that of other genders.\n",
    "</p><br>"
   ]
  },
  {
   "cell_type": "code",
   "execution_count": 66,
   "metadata": {},
   "outputs": [],
   "source": [
    "# calculating attrition percentages for Males with respect to worklife balance above/below mean\n",
    "male_attrited_worklife_above_mean = (data.loc[(data['Gender']=='M') & (data['WorkLifeBalance'] >= male_worklife_balance[1]) & \n",
    "                                              (data['Attrition']=='1')].shape[0])*100/(data.loc[(data['Gender']=='M') & \n",
    "                                              (data['Attrition']=='1')].shape[0])\n",
    "male_attrited_worklife_below_mean = (data.loc[(data['Gender']=='M') & (data['WorkLifeBalance'] < male_worklife_balance[1]) & \n",
    "                                              (data['Attrition']=='1')].shape[0])*100/(data.loc[(data['Gender']=='M') & \n",
    "                                              (data['Attrition']=='1')].shape[0])\n",
    "\n",
    "# calculating attrition percentages for Females with respect to worklife balance above/below mean\n",
    "female_attrited_worklife_above_mean = (data.loc[(data['Gender']=='F') & (data['WorkLifeBalance'] >= female_worklife_balance[1]) & \n",
    "                                                (data['Attrition']=='1')].shape[0])*100/(data.loc[(data['Gender']=='F') & \n",
    "                                                (data['Attrition']=='1')].shape[0])\n",
    "female_attrited_worklife_below_mean = (data.loc[(data['Gender']=='F') & (data['WorkLifeBalance'] < female_worklife_balance[1]) & \n",
    "                                                (data['Attrition']=='1')].shape[0])*100/(data.loc[(data['Gender']=='F') & \n",
    "                                                (data['Attrition']=='1')].shape[0])\n",
    "\n",
    "# calculation of worklife balance above/below mean for non-attrited males\n",
    "male_non_attrited_worklife_above_mean = (data.loc[(data['Gender']=='M') & (data['WorkLifeBalance'] >= male_worklife_balance[1]) & \n",
    "                                                 (data['Attrition']=='0')].shape[0])*100/(data.loc[(data['Gender']=='M') & \n",
    "                                                 (data['Attrition']=='0')].shape[0])\n",
    "male_non_attrited_worklife_below_mean = (data.loc[(data['Gender']=='M') & (data['WorkLifeBalance'] < male_worklife_balance[1]) & \n",
    "                                                 (data['Attrition']=='0')].shape[0])*100/(data.loc[(data['Gender']=='M') & \n",
    "                                                 (data['Attrition']=='0')].shape[0])\n",
    "\n",
    "# calculation of worklife balance above/below mean for non-attrited females\n",
    "female_non_attrited_worklife_above_mean = (data.loc[(data['Gender']=='F') & (data['WorkLifeBalance'] >= female_worklife_balance[1]) & \n",
    "                                                    (data['Attrition']=='0')].shape[0])*100/(data.loc[(data['Gender']=='F') & \n",
    "                                                    (data['Attrition']=='0')].shape[0])\n",
    "female_non_attrited_worklife_below_mean = (data.loc[(data['Gender']=='F') & (data['WorkLifeBalance'] < female_worklife_balance[1]) & \n",
    "                                                    (data['Attrition']=='0')].shape[0])*100/(data.loc[(data['Gender']=='F') & \n",
    "                                                    (data['Attrition']=='0')].shape[0])\n"
   ]
  },
  {
   "cell_type": "markdown",
   "metadata": {},
   "source": [
    "<br>\n",
    "Some observations made from the analysis above:\n",
    "\n",
    "- Analyzing the charts for both the male and female employees, the percentage of employees having below average worklife balance are higher in the set of employees that have attrited, the number being __38.00%__ for males and __29.89%__ for females.\n",
    "- Among the employees attrited, Female employees are a little better at maintaining their worklife balance compared to male employees.\n",
    "- Among the employees that have not attrited, both Male and Female employees are equally good at maintaining their worklife balance, with more than two-thirds of them having a above average worklife balance.\n",
    "\n",
    "Inferences and recommendations for the organization:\n",
    "- Male employees are slightly less adept at maintaining work-life balance than female employees, making the former more susceptible to attrition. This may be the result of a number of things, including family commitments, emotional health, and overall wellbeing.\n",
    "- The challenge for the company is to create better incentives for the employees so that they are less prone towards attrition.\n",
    "- By partnering up with other companies, the corporation can strive to offer employees discounts on frequently utilized products and services.\n",
    "- Everyone enjoys discussing their passions and excitement. Regular employee bonding events and giving them a way to engage with coworkers who share their interests can improve workplace morale and improve everyone's ability to balance work and life."
   ]
  },
  {
   "cell_type": "markdown",
   "metadata": {},
   "source": [
    "#### <font color='4B8AC1'> <b> Analyzing on basis of Salary Hike </b></font>\n",
    "<p style='text-align: justify;'>\n",
    "Let's look at the average income increase for both genders first. Does it usually happen that women get more pay hikes than men, or is it the other way round? We'll also look at the relationship between compensation hikes and attrition rates. Are attrition rates higher for men or women receiving below-average salary hikes?\n",
    "</p>"
   ]
  },
  {
   "cell_type": "code",
   "execution_count": 68,
   "metadata": {},
   "outputs": [
    {
     "name": "stdout",
     "output_type": "stream",
     "text": [
      "Statistics of Male percentage salary hike\n",
      "\n",
      " count    882.000000\n",
      "mean      15.217687\n",
      "std        3.634587\n",
      "min       11.000000\n",
      "25%       12.000000\n",
      "50%       14.000000\n",
      "75%       18.000000\n",
      "max       25.000000\n",
      "Name: SalaryHike (in %), dtype: float64\n"
     ]
    }
   ],
   "source": [
    "# statistics of Salary Hike (%) for male employees\n",
    "\n",
    "male_salary_hike = data.loc[data['Gender']=='M', 'SalaryHike (in %)'].describe()\n",
    "print(\"Statistics of Male percentage salary hike\\n\\n\", male_salary_hike)"
   ]
  },
  {
   "cell_type": "code",
   "execution_count": 69,
   "metadata": {},
   "outputs": [
    {
     "name": "stdout",
     "output_type": "stream",
     "text": [
      "Statistics of Female percentage salary hike\n",
      "\n",
      " count    588.000000\n",
      "mean      15.197279\n",
      "std        3.700710\n",
      "min       11.000000\n",
      "25%       12.000000\n",
      "50%       14.000000\n",
      "75%       18.000000\n",
      "max       25.000000\n",
      "Name: SalaryHike (in %), dtype: float64\n"
     ]
    }
   ],
   "source": [
    "# statistics of Salary Hike (%) for female employees\n",
    "\n",
    "female_salary_hike = data.loc[data['Gender']=='F', 'SalaryHike (in %)'].describe()\n",
    "print(\"Statistics of Female percentage salary hike\\n\\n\", female_salary_hike)"
   ]
  },
  {
   "cell_type": "markdown",
   "metadata": {},
   "source": [
    "<p style='text-align: justify;'>\n",
    "From the descriptive statistics, we can observe that the average salary hikes for both the genders is similar. The median, and different quartiles are also approximately equal. This suggests that their might not be discrimination among genders for salary hikes. In order to fine tune our analysis, let us look at the percentage of Male and Female employees who have salary hikes less than the average.\n",
    "</p>"
   ]
  },
  {
   "cell_type": "code",
   "execution_count": 70,
   "metadata": {},
   "outputs": [
    {
     "name": "stdout",
     "output_type": "stream",
     "text": [
      "\n",
      "The % of Male Employees having a lower than average salary hike are: 62.81%\n",
      "\n",
      "The % of Female Employees having a lower than average salary hike are: 62.07%\n"
     ]
    }
   ],
   "source": [
    "# percentage of male employees salary hike below the mean\n",
    "male_salary_hike_below_mean = (data.loc[(data['Gender']=='M') & \n",
    "                                        (data['SalaryHike (in %)'] < male_salary_hike[1])].shape[0])*100/(data.loc[data['Gender']=='M'].shape[0])\n",
    "\n",
    "# percentage of female employees salary hike below the mean\n",
    "female_salary_hike_below_mean = (data.loc[(data['Gender']=='F') & \n",
    "                                          (data['SalaryHike (in %)'] < male_salary_hike[1])].shape[0])*100/(data.loc[data['Gender']=='F'].shape[0])\n",
    "\n",
    "print(\"\\nThe %% of Male Employees having a lower than average salary hike are: %.2f\" %male_salary_hike_below_mean + \"%\")\n",
    "print(\"\\nThe %% of Female Employees having a lower than average salary hike are: %.2f\" %female_salary_hike_below_mean + \"%\")"
   ]
  },
  {
   "cell_type": "markdown",
   "metadata": {},
   "source": [
    "<br><p style='text-align: justify;'>\n",
    "From the above results, we can infer that __62.81 %__ of Male Employees and __62.07 %__ of Female Employees have a lower than average salary hike.\n",
    "</p>\n",
    "<p style='text-align: justify;'>\n",
    "This suggests that Employees might be more prone towards attriting the company as a majority of workforce does not get a decent salary hike. This affects the morale of the workplace and creates a sense of disbelief among the employees.\n",
    "</p>\n",
    "<p style='text-align: justify;'>\n",
    "To conduct our analysis further, and analyze the lower salary hike's effect on both the genders seperately, we will create a visualization.\n",
    "</p>"
   ]
  },
  {
   "cell_type": "code",
   "execution_count": 71,
   "metadata": {},
   "outputs": [],
   "source": [
    "# checking attrition rates for males whose salary hikes are below the average salary Hike\n",
    "male_attrited_salaryhike_below_mean = (data.loc[(data['Gender']=='M') & (data['SalaryHike (in %)']< male_salary_hike[1]) & \n",
    "                                                (data['Attrition']=='1')].shape[0])*100/(data.loc[(data['Gender']=='M') & \n",
    "                                                (data['Attrition']=='1')].shape[0])\n",
    "# checking attrition rates for males whose salary hikes are above the average salary Hike\n",
    "male_attrited_salaryhike_above_mean = (data.loc[(data['Gender']=='M') & (data['SalaryHike (in %)']>= male_salary_hike[1]) & \n",
    "                                                (data['Attrition']=='1')].shape[0])*100/(data.loc[(data['Gender']=='M') & \n",
    "                                                (data['Attrition']=='1')].shape[0])\n",
    "\n",
    "# checking attrition rates for Females whose salary hikes are below the average salary Hike\n",
    "female_attrited_salaryhike_below_mean = (data.loc[(data['Gender']=='F') & (data['SalaryHike (in %)']< female_salary_hike[1]) & \n",
    "                                                  (data['Attrition']=='1')].shape[0])*100/(data.loc[(data['Gender']=='F') & \n",
    "                                                  (data['Attrition']=='1')].shape[0])\n",
    "# checking attrition rates for Females whose salary hikes are above the average salary Hike\n",
    "female_attrited_salaryhike_above_mean = (data.loc[(data['Gender']=='F') & (data['SalaryHike (in %)']>= female_salary_hike[1]) & \n",
    "                                                  (data['Attrition']=='1')].shape[0])*100/(data.loc[(data['Gender']=='F') & \n",
    "                                                  (data['Attrition']=='1')].shape[0])"
   ]
  },
  {
   "cell_type": "markdown",
   "metadata": {},
   "source": [
    "\n",
    "It can be inferred from the above analysis that the __employees having a salary hike less than the average hike are more prone towards attrition__, with the number being __65.33%__ and __59.77%__ for male and female employees respectively. \n",
    "<br><br>\n",
    "We can also say that the effect of attrition due to lower salary hikes are more common in male employees than in female employees by around 6%. \n",
    "<br><br>\n",
    "The company, in order to decrease the attrition rate due to salary hike issue can implement:\n",
    "- Incorporating Performance based bonuses to motivate employees to perform better and inturn hike their salary.\n",
    "- Maintaining a closer-to-average Percentage salary hike for all the employees, so they are not demoralized compared to their peers.\n",
    "- Providing recently joined employees with a little higher than average salary hike in order to boost their confidence."
   ]
  },
  {
   "cell_type": "markdown",
   "metadata": {},
   "source": [
    "Tracing back to our original hypothesis, we came to the following conclusions in order to determine which factors affect different genders in attrition:\n",
    "<br>\n",
    "- In the organization, hourly wages for men and women are roughly comparable. When hourly wages are compared to education levels, we see that employees with a Professional master's or doctorate but earning less than the average salary are more likely to leave. As a result, in order to reduce attrition rates, organizations must strike a balance between salary levels and candidate qualifications.\n",
    "- Furthermore, we believe that marital status has an impact on attrition rates, and we discovered that single male and female employees are more likely to leave. They are more prone to attrition due to their flexibility in relocating and fewer family obligations. Creating a flexible work environment that includes holidays and other bonding events can help reduce attrition rates among unmarried people.\n",
    "\n",
    "Overall, the same factors drive both male and female employee attrition, but the impact of those factors is greater on male employees."
   ]
  },
  {
   "cell_type": "markdown",
   "metadata": {},
   "source": [
    "<p style='text-align: justify;'>\n",
    "So far, we were able to analyze that the non-monetary aspects of a workplace weigh more for an employee and that the factors for attrition of an employee differ gender wise. Taking it one step further, let us analyze if there exists an attrition impact if an employee is not promoted within a certain period of time.\n",
    "</p>"
   ]
  },
  {
   "cell_type": "markdown",
   "metadata": {},
   "source": [
    "## <font color='447EB1'><b> The impact of not being offered a promotion relatively earlier </b></font>\n",
    "<p style='text-align: justify;'>\n",
    "To be able to analyze whether promotion effects employee attrition or not, we can start by analyzing columns such as YearsInCurrentRole, YearsSinceLastPromotion, and YearsWithCurrManager. On checking for multicollinearity between three independent variables through correlation matrix, we obtain the following -\n",
    "</p>"
   ]
  },
  {
   "cell_type": "code",
   "execution_count": 72,
   "metadata": {},
   "outputs": [
    {
     "data": {
      "image/png": "[encoded data removed]",
      "text/plain": [
       "<Figure size 432x288 with 2 Axes>"
      ]
     },
     "metadata": {
      "needs_background": "light"
     },
     "output_type": "display_data"
    }
   ],
   "source": [
    "X = data[['YearsInCurrentRole', 'YearsSinceLastPromotion', 'YearsWithCurrManager']]\n",
    "corr_data = pd.DataFrame(X)\n",
    "corr_data = corr_data.corr()\n",
    "sns.heatmap(corr_data, annot=True, cmap=\"crest\")\n",
    "plt.show()"
   ]
  },
  {
   "cell_type": "markdown",
   "metadata": {},
   "source": [
    "The heatmap above shows the correlation between each variable while ranging anywhere between -1 to +1. Detailed analysis of each of the three variables gives us -\n",
    "\n",
    "- YearsInCurrentRole variable has a positive and high correlation with YearsWithCurrManager of about 71%.  \n",
    "- YearsInCurrentRole variable is also correlated to YearsSinceLastPromotion by 55%.\n",
    "\n",
    "We drop YearsWithCurrManager column to help remove multicollinearity and use columns YearsInCurrentRole and YearsSinceLastPromotion for our further analysis. Variables affecting the monetary aspects for an employee are: YearsInCurrentRole and YearsSinceLastPromotion."
   ]
  },
  {
   "cell_type": "code",
   "execution_count": 73,
   "metadata": {},
   "outputs": [],
   "source": [
    "X = data[['YearsInCurrentRole', 'YearsSinceLastPromotion']]\n",
    "y = data['Attrition']"
   ]
  },
  {
   "cell_type": "markdown",
   "metadata": {},
   "source": [
    "#### <font color='4B8AC1'> <b> Buiding a Logistic Regression Model</b></font>"
   ]
  },
  {
   "cell_type": "code",
   "execution_count": 74,
   "metadata": {},
   "outputs": [],
   "source": [
    "# Split dataset into training and testing data - select 20% of the data randomly and separate it from the training data\n",
    "\n",
    "X_train, X_test, y_train, y_test = train_test_split(X, y, test_size=0.2, random_state=16)\n",
    "\n",
    "# instantiate the model (using the default parameters)\n",
    "logreg = LogisticRegression(random_state=16)\n",
    "\n",
    "# fit the model with data\n",
    "logreg.fit(X_train, y_train)\n",
    "\n",
    "y_pred = logreg.predict(X_test)"
   ]
  },
  {
   "cell_type": "code",
   "execution_count": 40,
   "metadata": {},
   "outputs": [
    {
     "data": {
      "application/vnd.plotly.v1+json": {
       "config": {
        "plotlyServerURL": "https://plot.ly"
       },
       "data": [
        {
         "marker": {
          "color": "#8FBBAF"
         },
         "name": "Attrition",
         "showlegend": true,
         "text": [
          73,
          11,
          68,
          16,
          15,
          1,
          2,
          31,
          7,
          6,
          2,
          1,
          1,
          1,
          2
         ],
         "textposition": "outside",
         "type": "bar",
         "x": [
          0,
          1,
          2,
          3,
          4,
          5,
          6,
          7,
          8,
          9,
          10,
          12,
          13,
          14,
          15
         ],
         "xaxis": "x",
         "y": [
          73,
          11,
          68,
          16,
          15,
          1,
          2,
          31,
          7,
          6,
          2,
          1,
          1,
          1,
          2
         ],
         "yaxis": "y"
        },
        {
         "marker": {
          "color": "#6B7B8E"
         },
         "name": "No attrition",
         "showlegend": true,
         "text": [
          171,
          46,
          304,
          119,
          89,
          35,
          35,
          191,
          82,
          61,
          27,
          22,
          9,
          13,
          10,
          6,
          7,
          4,
          2
         ],
         "textposition": "outside",
         "type": "bar",
         "x": [
          0,
          1,
          2,
          3,
          4,
          5,
          6,
          7,
          8,
          9,
          10,
          11,
          12,
          13,
          14,
          15,
          16,
          17,
          18
         ],
         "xaxis": "x",
         "y": [
          171,
          46,
          304,
          119,
          89,
          35,
          35,
          191,
          82,
          61,
          27,
          22,
          9,
          13,
          10,
          6,
          7,
          4,
          2
         ],
         "yaxis": "y"
        },
        {
         "marker": {
          "color": "#8FBBAF"
         },
         "name": "Attrition",
         "showlegend": false,
         "text": [
          110,
          49,
          27,
          9,
          5,
          2,
          6,
          16,
          4,
          1,
          2,
          2,
          1,
          3
         ],
         "textposition": "outside",
         "type": "bar",
         "x": [
          0,
          1,
          2,
          3,
          4,
          5,
          6,
          7,
          9,
          10,
          11,
          13,
          14,
          15
         ],
         "xaxis": "x2",
         "y": [
          110,
          49,
          27,
          9,
          5,
          2,
          6,
          16,
          4,
          1,
          2,
          2,
          1,
          3
         ],
         "yaxis": "y2"
        },
        {
         "marker": {
          "color": "#6B7B8E"
         },
         "name": "No attrition",
         "showlegend": false,
         "text": [
          471,
          308,
          132,
          43,
          56,
          43,
          26,
          60,
          18,
          13,
          5,
          22,
          10,
          8,
          8,
          10
         ],
         "textposition": "outside",
         "type": "bar",
         "x": [
          0,
          1,
          2,
          3,
          4,
          5,
          6,
          7,
          8,
          9,
          10,
          11,
          12,
          13,
          14,
          15
         ],
         "xaxis": "x2",
         "y": [
          471,
          308,
          132,
          43,
          56,
          43,
          26,
          60,
          18,
          13,
          5,
          22,
          10,
          8,
          8,
          10
         ],
         "yaxis": "y2"
        }
       ],
       "layout": {
        "autosize": true,
        "template": {
         "data": {
          "bar": [
           {
            "error_x": {
             "color": "#2a3f5f"
            },
            "error_y": {
             "color": "#2a3f5f"
            },
            "marker": {
             "line": {
              "color": "#E5ECF6",
              "width": 0.5
             }
            },
            "type": "bar"
           }
          ],
          "barpolar": [
           {
            "marker": {
             "line": {
              "color": "#E5ECF6",
              "width": 0.5
             }
            },
            "type": "barpolar"
           }
          ],
          "carpet": [
           {
            "aaxis": {
             "endlinecolor": "#2a3f5f",
             "gridcolor": "white",
             "linecolor": "white",
             "minorgridcolor": "white",
             "startlinecolor": "#2a3f5f"
            },
            "baxis": {
             "endlinecolor": "#2a3f5f",
             "gridcolor": "white",
             "linecolor": "white",
             "minorgridcolor": "white",
             "startlinecolor": "#2a3f5f"
            },
            "type": "carpet"
           }
          ],
          "choropleth": [
           {
            "colorbar": {
             "outlinewidth": 0,
             "ticks": ""
            },
            "type": "choropleth"
           }
          ],
          "contour": [
           {
            "colorbar": {
             "outlinewidth": 0,
             "ticks": ""
            },
            "colorscale": [
             [
              0,
              "#0d0887"
             ],
             [
              0.1111111111111111,
              "#46039f"
             ],
             [
              0.2222222222222222,
              "#7201a8"
             ],
             [
              0.3333333333333333,
              "#9c179e"
             ],
             [
              0.4444444444444444,
              "#bd3786"
             ],
             [
              0.5555555555555556,
              "#d8576b"
             ],
             [
              0.6666666666666666,
              "#ed7953"
             ],
             [
              0.7777777777777778,
              "#fb9f3a"
             ],
             [
              0.8888888888888888,
              "#fdca26"
             ],
             [
              1,
              "#f0f921"
             ]
            ],
            "type": "contour"
           }
          ],
          "contourcarpet": [
           {
            "colorbar": {
             "outlinewidth": 0,
             "ticks": ""
            },
            "type": "contourcarpet"
           }
          ],
          "heatmap": [
           {
            "colorbar": {
             "outlinewidth": 0,
             "ticks": ""
            },
            "colorscale": [
             [
              0,
              "#0d0887"
             ],
             [
              0.1111111111111111,
              "#46039f"
             ],
             [
              0.2222222222222222,
              "#7201a8"
             ],
             [
              0.3333333333333333,
              "#9c179e"
             ],
             [
              0.4444444444444444,
              "#bd3786"
             ],
             [
              0.5555555555555556,
              "#d8576b"
             ],
             [
              0.6666666666666666,
              "#ed7953"
             ],
             [
              0.7777777777777778,
              "#fb9f3a"
             ],
             [
              0.8888888888888888,
              "#fdca26"
             ],
             [
              1,
              "#f0f921"
             ]
            ],
            "type": "heatmap"
           }
          ],
          "heatmapgl": [
           {
            "colorbar": {
             "outlinewidth": 0,
             "ticks": ""
            },
            "colorscale": [
             [
              0,
              "#0d0887"
             ],
             [
              0.1111111111111111,
              "#46039f"
             ],
             [
              0.2222222222222222,
              "#7201a8"
             ],
             [
              0.3333333333333333,
              "#9c179e"
             ],
             [
              0.4444444444444444,
              "#bd3786"
             ],
             [
              0.5555555555555556,
              "#d8576b"
             ],
             [
              0.6666666666666666,
              "#ed7953"
             ],
             [
              0.7777777777777778,
              "#fb9f3a"
             ],
             [
              0.8888888888888888,
              "#fdca26"
             ],
             [
              1,
              "#f0f921"
             ]
            ],
            "type": "heatmapgl"
           }
          ],
          "histogram": [
           {
            "marker": {
             "colorbar": {
              "outlinewidth": 0,
              "ticks": ""
             }
            },
            "type": "histogram"
           }
          ],
          "histogram2d": [
           {
            "colorbar": {
             "outlinewidth": 0,
             "ticks": ""
            },
            "colorscale": [
             [
              0,
              "#0d0887"
             ],
             [
              0.1111111111111111,
              "#46039f"
             ],
             [
              0.2222222222222222,
              "#7201a8"
             ],
             [
              0.3333333333333333,
              "#9c179e"
             ],
             [
              0.4444444444444444,
              "#bd3786"
             ],
             [
              0.5555555555555556,
              "#d8576b"
             ],
             [
              0.6666666666666666,
              "#ed7953"
             ],
             [
              0.7777777777777778,
              "#fb9f3a"
             ],
             [
              0.8888888888888888,
              "#fdca26"
             ],
             [
              1,
              "#f0f921"
             ]
            ],
            "type": "histogram2d"
           }
          ],
          "histogram2dcontour": [
           {
            "colorbar": {
             "outlinewidth": 0,
             "ticks": ""
            },
            "colorscale": [
             [
              0,
              "#0d0887"
             ],
             [
              0.1111111111111111,
              "#46039f"
             ],
             [
              0.2222222222222222,
              "#7201a8"
             ],
             [
              0.3333333333333333,
              "#9c179e"
             ],
             [
              0.4444444444444444,
              "#bd3786"
             ],
             [
              0.5555555555555556,
              "#d8576b"
             ],
             [
              0.6666666666666666,
              "#ed7953"
             ],
             [
              0.7777777777777778,
              "#fb9f3a"
             ],
             [
              0.8888888888888888,
              "#fdca26"
             ],
             [
              1,
              "#f0f921"
             ]
            ],
            "type": "histogram2dcontour"
           }
          ],
          "mesh3d": [
           {
            "colorbar": {
             "outlinewidth": 0,
             "ticks": ""
            },
            "type": "mesh3d"
           }
          ],
          "parcoords": [
           {
            "line": {
             "colorbar": {
              "outlinewidth": 0,
              "ticks": ""
             }
            },
            "type": "parcoords"
           }
          ],
          "pie": [
           {
            "automargin": true,
            "type": "pie"
           }
          ],
          "scatter": [
           {
            "marker": {
             "colorbar": {
              "outlinewidth": 0,
              "ticks": ""
             }
            },
            "type": "scatter"
           }
          ],
          "scatter3d": [
           {
            "line": {
             "colorbar": {
              "outlinewidth": 0,
              "ticks": ""
             }
            },
            "marker": {
             "colorbar": {
              "outlinewidth": 0,
              "ticks": ""
             }
            },
            "type": "scatter3d"
           }
          ],
          "scattercarpet": [
           {
            "marker": {
             "colorbar": {
              "outlinewidth": 0,
              "ticks": ""
             }
            },
            "type": "scattercarpet"
           }
          ],
          "scattergeo": [
           {
            "marker": {
             "colorbar": {
              "outlinewidth": 0,
              "ticks": ""
             }
            },
            "type": "scattergeo"
           }
          ],
          "scattergl": [
           {
            "marker": {
             "colorbar": {
              "outlinewidth": 0,
              "ticks": ""
             }
            },
            "type": "scattergl"
           }
          ],
          "scattermapbox": [
           {
            "marker": {
             "colorbar": {
              "outlinewidth": 0,
              "ticks": ""
             }
            },
            "type": "scattermapbox"
           }
          ],
          "scatterpolar": [
           {
            "marker": {
             "colorbar": {
              "outlinewidth": 0,
              "ticks": ""
             }
            },
            "type": "scatterpolar"
           }
          ],
          "scatterpolargl": [
           {
            "marker": {
             "colorbar": {
              "outlinewidth": 0,
              "ticks": ""
             }
            },
            "type": "scatterpolargl"
           }
          ],
          "scatterternary": [
           {
            "marker": {
             "colorbar": {
              "outlinewidth": 0,
              "ticks": ""
             }
            },
            "type": "scatterternary"
           }
          ],
          "surface": [
           {
            "colorbar": {
             "outlinewidth": 0,
             "ticks": ""
            },
            "colorscale": [
             [
              0,
              "#0d0887"
             ],
             [
              0.1111111111111111,
              "#46039f"
             ],
             [
              0.2222222222222222,
              "#7201a8"
             ],
             [
              0.3333333333333333,
              "#9c179e"
             ],
             [
              0.4444444444444444,
              "#bd3786"
             ],
             [
              0.5555555555555556,
              "#d8576b"
             ],
             [
              0.6666666666666666,
              "#ed7953"
             ],
             [
              0.7777777777777778,
              "#fb9f3a"
             ],
             [
              0.8888888888888888,
              "#fdca26"
             ],
             [
              1,
              "#f0f921"
             ]
            ],
            "type": "surface"
           }
          ],
          "table": [
           {
            "cells": {
             "fill": {
              "color": "#EBF0F8"
             },
             "line": {
              "color": "white"
             }
            },
            "header": {
             "fill": {
              "color": "#C8D4E3"
             },
             "line": {
              "color": "white"
             }
            },
            "type": "table"
           }
          ]
         },
         "layout": {
          "annotationdefaults": {
           "arrowcolor": "#2a3f5f",
           "arrowhead": 0,
           "arrowwidth": 1
          },
          "coloraxis": {
           "colorbar": {
            "outlinewidth": 0,
            "ticks": ""
           }
          },
          "colorscale": {
           "diverging": [
            [
             0,
             "#8e0152"
            ],
            [
             0.1,
             "#c51b7d"
            ],
            [
             0.2,
             "#de77ae"
            ],
            [
             0.3,
             "#f1b6da"
            ],
            [
             0.4,
             "#fde0ef"
            ],
            [
             0.5,
             "#f7f7f7"
            ],
            [
             0.6,
             "#e6f5d0"
            ],
            [
             0.7,
             "#b8e186"
            ],
            [
             0.8,
             "#7fbc41"
            ],
            [
             0.9,
             "#4d9221"
            ],
            [
             1,
             "#276419"
            ]
           ],
           "sequential": [
            [
             0,
             "#0d0887"
            ],
            [
             0.1111111111111111,
             "#46039f"
            ],
            [
             0.2222222222222222,
             "#7201a8"
            ],
            [
             0.3333333333333333,
             "#9c179e"
            ],
            [
             0.4444444444444444,
             "#bd3786"
            ],
            [
             0.5555555555555556,
             "#d8576b"
            ],
            [
             0.6666666666666666,
             "#ed7953"
            ],
            [
             0.7777777777777778,
             "#fb9f3a"
            ],
            [
             0.8888888888888888,
             "#fdca26"
            ],
            [
             1,
             "#f0f921"
            ]
           ],
           "sequentialminus": [
            [
             0,
             "#0d0887"
            ],
            [
             0.1111111111111111,
             "#46039f"
            ],
            [
             0.2222222222222222,
             "#7201a8"
            ],
            [
             0.3333333333333333,
             "#9c179e"
            ],
            [
             0.4444444444444444,
             "#bd3786"
            ],
            [
             0.5555555555555556,
             "#d8576b"
            ],
            [
             0.6666666666666666,
             "#ed7953"
            ],
            [
             0.7777777777777778,
             "#fb9f3a"
            ],
            [
             0.8888888888888888,
             "#fdca26"
            ],
            [
             1,
             "#f0f921"
            ]
           ]
          },
          "colorway": [
           "#636efa",
           "#EF553B",
           "#00cc96",
           "#ab63fa",
           "#FFA15A",
           "#19d3f3",
           "#FF6692",
           "#B6E880",
           "#FF97FF",
           "#FECB52"
          ],
          "font": {
           "color": "#2a3f5f"
          },
          "geo": {
           "bgcolor": "white",
           "lakecolor": "white",
           "landcolor": "#E5ECF6",
           "showlakes": true,
           "showland": true,
           "subunitcolor": "white"
          },
          "hoverlabel": {
           "align": "left"
          },
          "hovermode": "closest",
          "mapbox": {
           "style": "light"
          },
          "paper_bgcolor": "white",
          "plot_bgcolor": "#E5ECF6",
          "polar": {
           "angularaxis": {
            "gridcolor": "white",
            "linecolor": "white",
            "ticks": ""
           },
           "bgcolor": "#E5ECF6",
           "radialaxis": {
            "gridcolor": "white",
            "linecolor": "white",
            "ticks": ""
           }
          },
          "scene": {
           "xaxis": {
            "backgroundcolor": "#E5ECF6",
            "gridcolor": "white",
            "gridwidth": 2,
            "linecolor": "white",
            "showbackground": true,
            "ticks": "",
            "zerolinecolor": "white"
           },
           "yaxis": {
            "backgroundcolor": "#E5ECF6",
            "gridcolor": "white",
            "gridwidth": 2,
            "linecolor": "white",
            "showbackground": true,
            "ticks": "",
            "zerolinecolor": "white"
           },
           "zaxis": {
            "backgroundcolor": "#E5ECF6",
            "gridcolor": "white",
            "gridwidth": 2,
            "linecolor": "white",
            "showbackground": true,
            "ticks": "",
            "zerolinecolor": "white"
           }
          },
          "shapedefaults": {
           "line": {
            "color": "#2a3f5f"
           }
          },
          "ternary": {
           "aaxis": {
            "gridcolor": "white",
            "linecolor": "white",
            "ticks": ""
           },
           "baxis": {
            "gridcolor": "white",
            "linecolor": "white",
            "ticks": ""
           },
           "bgcolor": "#E5ECF6",
           "caxis": {
            "gridcolor": "white",
            "linecolor": "white",
            "ticks": ""
           }
          },
          "title": {
           "x": 0.05
          },
          "xaxis": {
           "automargin": true,
           "gridcolor": "white",
           "linecolor": "white",
           "ticks": "",
           "title": {
            "standoff": 15
           },
           "zerolinecolor": "white",
           "zerolinewidth": 2
          },
          "yaxis": {
           "automargin": true,
           "gridcolor": "white",
           "linecolor": "white",
           "ticks": "",
           "title": {
            "standoff": 15
           },
           "zerolinecolor": "white",
           "zerolinewidth": 2
          }
         }
        },
        "xaxis": {
         "anchor": "y",
         "autorange": true,
         "domain": [
          0,
          0.45
         ],
         "range": [
          -0.5,
          18.5
         ],
         "title": {
          "text": "<b style=\"font-size:90%;\">Years in Current role"
         },
         "type": "linear"
        },
        "xaxis2": {
         "anchor": "y2",
         "autorange": true,
         "domain": [
          0.55,
          1
         ],
         "range": [
          -0.5,
          15.5
         ],
         "title": {
          "text": "<b style=\"font-size:90%;\">Years Since Last Promotion"
         },
         "type": "linear"
        },
        "yaxis": {
         "anchor": "x",
         "autorange": true,
         "domain": [
          0,
          1
         ],
         "range": [
          0,
          320
         ],
         "type": "linear"
        },
        "yaxis2": {
         "anchor": "x2",
         "autorange": true,
         "domain": [
          0,
          1
         ],
         "range": [
          0,
          495.7894736842105
         ],
         "type": "linear"
        }
       }
      },
      "image/png": "[encoded data removed]",
      "text/html": [
       "<div>                            <div id=\"aad0a50a-48c8-4ef6-a97d-4a07d0c07e84\" class=\"plotly-graph-div\" style=\"height:525px; width:100%;\"></div>            <script type=\"text/javascript\">                require([\"plotly\"], function(Plotly) {                    window.PLOTLYENV=window.PLOTLYENV || {};                                    if (document.getElementById(\"aad0a50a-48c8-4ef6-a97d-4a07d0c07e84\")) {                    Plotly.newPlot(                        \"aad0a50a-48c8-4ef6-a97d-4a07d0c07e84\",                        [{\"marker\": {\"color\": \"#8FBBAF\"}, \"name\": \"Attrition\", \"showlegend\": true, \"text\": [73.0, 11.0, 68.0, 16.0, 15.0, 1.0, 2.0, 31.0, 7.0, 6.0, 2.0, 1.0, 1.0, 1.0, 2.0], \"textposition\": \"outside\", \"type\": \"bar\", \"x\": [0, 1, 2, 3, 4, 5, 6, 7, 8, 9, 10, 12, 13, 14, 15], \"xaxis\": \"x\", \"y\": [73, 11, 68, 16, 15, 1, 2, 31, 7, 6, 2, 1, 1, 1, 2], \"yaxis\": \"y\"}, {\"marker\": {\"color\": \"#6B7B8E\"}, \"name\": \"No attrition\", \"showlegend\": true, \"text\": [171.0, 46.0, 304.0, 119.0, 89.0, 35.0, 35.0, 191.0, 82.0, 61.0, 27.0, 22.0, 9.0, 13.0, 10.0, 6.0, 7.0, 4.0, 2.0], \"textposition\": \"outside\", \"type\": \"bar\", \"x\": [0, 1, 2, 3, 4, 5, 6, 7, 8, 9, 10, 11, 12, 13, 14, 15, 16, 17, 18], \"xaxis\": \"x\", \"y\": [171, 46, 304, 119, 89, 35, 35, 191, 82, 61, 27, 22, 9, 13, 10, 6, 7, 4, 2], \"yaxis\": \"y\"}, {\"marker\": {\"color\": \"#8FBBAF\"}, \"name\": \"Attrition\", \"showlegend\": false, \"text\": [110.0, 49.0, 27.0, 9.0, 5.0, 2.0, 6.0, 16.0, 4.0, 1.0, 2.0, 2.0, 1.0, 3.0], \"textposition\": \"outside\", \"type\": \"bar\", \"x\": [0, 1, 2, 3, 4, 5, 6, 7, 9, 10, 11, 13, 14, 15], \"xaxis\": \"x2\", \"y\": [110, 49, 27, 9, 5, 2, 6, 16, 4, 1, 2, 2, 1, 3], \"yaxis\": \"y2\"}, {\"marker\": {\"color\": \"#6B7B8E\"}, \"name\": \"No attrition\", \"showlegend\": false, \"text\": [471.0, 308.0, 132.0, 43.0, 56.0, 43.0, 26.0, 60.0, 18.0, 13.0, 5.0, 22.0, 10.0, 8.0, 8.0, 10.0], \"textposition\": \"outside\", \"type\": \"bar\", \"x\": [0, 1, 2, 3, 4, 5, 6, 7, 8, 9, 10, 11, 12, 13, 14, 15], \"xaxis\": \"x2\", \"y\": [471, 308, 132, 43, 56, 43, 26, 60, 18, 13, 5, 22, 10, 8, 8, 10], \"yaxis\": \"y2\"}],                        {\"template\": {\"data\": {\"bar\": [{\"error_x\": {\"color\": \"#2a3f5f\"}, \"error_y\": {\"color\": \"#2a3f5f\"}, \"marker\": {\"line\": {\"color\": \"#E5ECF6\", \"width\": 0.5}}, \"type\": \"bar\"}], \"barpolar\": [{\"marker\": {\"line\": {\"color\": \"#E5ECF6\", \"width\": 0.5}}, \"type\": \"barpolar\"}], \"carpet\": [{\"aaxis\": {\"endlinecolor\": \"#2a3f5f\", \"gridcolor\": \"white\", \"linecolor\": \"white\", \"minorgridcolor\": \"white\", \"startlinecolor\": \"#2a3f5f\"}, \"baxis\": {\"endlinecolor\": \"#2a3f5f\", \"gridcolor\": \"white\", \"linecolor\": \"white\", \"minorgridcolor\": \"white\", \"startlinecolor\": \"#2a3f5f\"}, \"type\": \"carpet\"}], \"choropleth\": [{\"colorbar\": {\"outlinewidth\": 0, \"ticks\": \"\"}, \"type\": \"choropleth\"}], \"contour\": [{\"colorbar\": {\"outlinewidth\": 0, \"ticks\": \"\"}, \"colorscale\": [[0.0, \"#0d0887\"], [0.1111111111111111, \"#46039f\"], [0.2222222222222222, \"#7201a8\"], [0.3333333333333333, \"#9c179e\"], [0.4444444444444444, \"#bd3786\"], [0.5555555555555556, \"#d8576b\"], [0.6666666666666666, \"#ed7953\"], [0.7777777777777778, \"#fb9f3a\"], [0.8888888888888888, \"#fdca26\"], [1.0, \"#f0f921\"]], \"type\": \"contour\"}], \"contourcarpet\": [{\"colorbar\": {\"outlinewidth\": 0, \"ticks\": \"\"}, \"type\": \"contourcarpet\"}], \"heatmap\": [{\"colorbar\": {\"outlinewidth\": 0, \"ticks\": \"\"}, \"colorscale\": [[0.0, \"#0d0887\"], [0.1111111111111111, \"#46039f\"], [0.2222222222222222, \"#7201a8\"], [0.3333333333333333, \"#9c179e\"], [0.4444444444444444, \"#bd3786\"], [0.5555555555555556, \"#d8576b\"], [0.6666666666666666, \"#ed7953\"], [0.7777777777777778, \"#fb9f3a\"], [0.8888888888888888, \"#fdca26\"], [1.0, \"#f0f921\"]], \"type\": \"heatmap\"}], \"heatmapgl\": [{\"colorbar\": {\"outlinewidth\": 0, \"ticks\": \"\"}, \"colorscale\": [[0.0, \"#0d0887\"], [0.1111111111111111, \"#46039f\"], [0.2222222222222222, \"#7201a8\"], [0.3333333333333333, \"#9c179e\"], [0.4444444444444444, \"#bd3786\"], [0.5555555555555556, \"#d8576b\"], [0.6666666666666666, \"#ed7953\"], [0.7777777777777778, \"#fb9f3a\"], [0.8888888888888888, \"#fdca26\"], [1.0, \"#f0f921\"]], \"type\": \"heatmapgl\"}], \"histogram\": [{\"marker\": {\"colorbar\": {\"outlinewidth\": 0, \"ticks\": \"\"}}, \"type\": \"histogram\"}], \"histogram2d\": [{\"colorbar\": {\"outlinewidth\": 0, \"ticks\": \"\"}, \"colorscale\": [[0.0, \"#0d0887\"], [0.1111111111111111, \"#46039f\"], [0.2222222222222222, \"#7201a8\"], [0.3333333333333333, \"#9c179e\"], [0.4444444444444444, \"#bd3786\"], [0.5555555555555556, \"#d8576b\"], [0.6666666666666666, \"#ed7953\"], [0.7777777777777778, \"#fb9f3a\"], [0.8888888888888888, \"#fdca26\"], [1.0, \"#f0f921\"]], \"type\": \"histogram2d\"}], \"histogram2dcontour\": [{\"colorbar\": {\"outlinewidth\": 0, \"ticks\": \"\"}, \"colorscale\": [[0.0, \"#0d0887\"], [0.1111111111111111, \"#46039f\"], [0.2222222222222222, \"#7201a8\"], [0.3333333333333333, \"#9c179e\"], [0.4444444444444444, \"#bd3786\"], [0.5555555555555556, \"#d8576b\"], [0.6666666666666666, \"#ed7953\"], [0.7777777777777778, \"#fb9f3a\"], [0.8888888888888888, \"#fdca26\"], [1.0, \"#f0f921\"]], \"type\": \"histogram2dcontour\"}], \"mesh3d\": [{\"colorbar\": {\"outlinewidth\": 0, \"ticks\": \"\"}, \"type\": \"mesh3d\"}], \"parcoords\": [{\"line\": {\"colorbar\": {\"outlinewidth\": 0, \"ticks\": \"\"}}, \"type\": \"parcoords\"}], \"pie\": [{\"automargin\": true, \"type\": \"pie\"}], \"scatter\": [{\"marker\": {\"colorbar\": {\"outlinewidth\": 0, \"ticks\": \"\"}}, \"type\": \"scatter\"}], \"scatter3d\": [{\"line\": {\"colorbar\": {\"outlinewidth\": 0, \"ticks\": \"\"}}, \"marker\": {\"colorbar\": {\"outlinewidth\": 0, \"ticks\": \"\"}}, \"type\": \"scatter3d\"}], \"scattercarpet\": [{\"marker\": {\"colorbar\": {\"outlinewidth\": 0, \"ticks\": \"\"}}, \"type\": \"scattercarpet\"}], \"scattergeo\": [{\"marker\": {\"colorbar\": {\"outlinewidth\": 0, \"ticks\": \"\"}}, \"type\": \"scattergeo\"}], \"scattergl\": [{\"marker\": {\"colorbar\": {\"outlinewidth\": 0, \"ticks\": \"\"}}, \"type\": \"scattergl\"}], \"scattermapbox\": [{\"marker\": {\"colorbar\": {\"outlinewidth\": 0, \"ticks\": \"\"}}, \"type\": \"scattermapbox\"}], \"scatterpolar\": [{\"marker\": {\"colorbar\": {\"outlinewidth\": 0, \"ticks\": \"\"}}, \"type\": \"scatterpolar\"}], \"scatterpolargl\": [{\"marker\": {\"colorbar\": {\"outlinewidth\": 0, \"ticks\": \"\"}}, \"type\": \"scatterpolargl\"}], \"scatterternary\": [{\"marker\": {\"colorbar\": {\"outlinewidth\": 0, \"ticks\": \"\"}}, \"type\": \"scatterternary\"}], \"surface\": [{\"colorbar\": {\"outlinewidth\": 0, \"ticks\": \"\"}, \"colorscale\": [[0.0, \"#0d0887\"], [0.1111111111111111, \"#46039f\"], [0.2222222222222222, \"#7201a8\"], [0.3333333333333333, \"#9c179e\"], [0.4444444444444444, \"#bd3786\"], [0.5555555555555556, \"#d8576b\"], [0.6666666666666666, \"#ed7953\"], [0.7777777777777778, \"#fb9f3a\"], [0.8888888888888888, \"#fdca26\"], [1.0, \"#f0f921\"]], \"type\": \"surface\"}], \"table\": [{\"cells\": {\"fill\": {\"color\": \"#EBF0F8\"}, \"line\": {\"color\": \"white\"}}, \"header\": {\"fill\": {\"color\": \"#C8D4E3\"}, \"line\": {\"color\": \"white\"}}, \"type\": \"table\"}]}, \"layout\": {\"annotationdefaults\": {\"arrowcolor\": \"#2a3f5f\", \"arrowhead\": 0, \"arrowwidth\": 1}, \"coloraxis\": {\"colorbar\": {\"outlinewidth\": 0, \"ticks\": \"\"}}, \"colorscale\": {\"diverging\": [[0, \"#8e0152\"], [0.1, \"#c51b7d\"], [0.2, \"#de77ae\"], [0.3, \"#f1b6da\"], [0.4, \"#fde0ef\"], [0.5, \"#f7f7f7\"], [0.6, \"#e6f5d0\"], [0.7, \"#b8e186\"], [0.8, \"#7fbc41\"], [0.9, \"#4d9221\"], [1, \"#276419\"]], \"sequential\": [[0.0, \"#0d0887\"], [0.1111111111111111, \"#46039f\"], [0.2222222222222222, \"#7201a8\"], [0.3333333333333333, \"#9c179e\"], [0.4444444444444444, \"#bd3786\"], [0.5555555555555556, \"#d8576b\"], [0.6666666666666666, \"#ed7953\"], [0.7777777777777778, \"#fb9f3a\"], [0.8888888888888888, \"#fdca26\"], [1.0, \"#f0f921\"]], \"sequentialminus\": [[0.0, \"#0d0887\"], [0.1111111111111111, \"#46039f\"], [0.2222222222222222, \"#7201a8\"], [0.3333333333333333, \"#9c179e\"], [0.4444444444444444, \"#bd3786\"], [0.5555555555555556, \"#d8576b\"], [0.6666666666666666, \"#ed7953\"], [0.7777777777777778, \"#fb9f3a\"], [0.8888888888888888, \"#fdca26\"], [1.0, \"#f0f921\"]]}, \"colorway\": [\"#636efa\", \"#EF553B\", \"#00cc96\", \"#ab63fa\", \"#FFA15A\", \"#19d3f3\", \"#FF6692\", \"#B6E880\", \"#FF97FF\", \"#FECB52\"], \"font\": {\"color\": \"#2a3f5f\"}, \"geo\": {\"bgcolor\": \"white\", \"lakecolor\": \"white\", \"landcolor\": \"#E5ECF6\", \"showlakes\": true, \"showland\": true, \"subunitcolor\": \"white\"}, \"hoverlabel\": {\"align\": \"left\"}, \"hovermode\": \"closest\", \"mapbox\": {\"style\": \"light\"}, \"paper_bgcolor\": \"white\", \"plot_bgcolor\": \"#E5ECF6\", \"polar\": {\"angularaxis\": {\"gridcolor\": \"white\", \"linecolor\": \"white\", \"ticks\": \"\"}, \"bgcolor\": \"#E5ECF6\", \"radialaxis\": {\"gridcolor\": \"white\", \"linecolor\": \"white\", \"ticks\": \"\"}}, \"scene\": {\"xaxis\": {\"backgroundcolor\": \"#E5ECF6\", \"gridcolor\": \"white\", \"gridwidth\": 2, \"linecolor\": \"white\", \"showbackground\": true, \"ticks\": \"\", \"zerolinecolor\": \"white\"}, \"yaxis\": {\"backgroundcolor\": \"#E5ECF6\", \"gridcolor\": \"white\", \"gridwidth\": 2, \"linecolor\": \"white\", \"showbackground\": true, \"ticks\": \"\", \"zerolinecolor\": \"white\"}, \"zaxis\": {\"backgroundcolor\": \"#E5ECF6\", \"gridcolor\": \"white\", \"gridwidth\": 2, \"linecolor\": \"white\", \"showbackground\": true, \"ticks\": \"\", \"zerolinecolor\": \"white\"}}, \"shapedefaults\": {\"line\": {\"color\": \"#2a3f5f\"}}, \"ternary\": {\"aaxis\": {\"gridcolor\": \"white\", \"linecolor\": \"white\", \"ticks\": \"\"}, \"baxis\": {\"gridcolor\": \"white\", \"linecolor\": \"white\", \"ticks\": \"\"}, \"bgcolor\": \"#E5ECF6\", \"caxis\": {\"gridcolor\": \"white\", \"linecolor\": \"white\", \"ticks\": \"\"}}, \"title\": {\"x\": 0.05}, \"xaxis\": {\"automargin\": true, \"gridcolor\": \"white\", \"linecolor\": \"white\", \"ticks\": \"\", \"title\": {\"standoff\": 15}, \"zerolinecolor\": \"white\", \"zerolinewidth\": 2}, \"yaxis\": {\"automargin\": true, \"gridcolor\": \"white\", \"linecolor\": \"white\", \"ticks\": \"\", \"title\": {\"standoff\": 15}, \"zerolinecolor\": \"white\", \"zerolinewidth\": 2}}}, \"xaxis\": {\"anchor\": \"y\", \"domain\": [0.0, 0.45], \"title\": {\"text\": \"<b style=\\\"font-size:90%;\\\">Years in Current role\"}}, \"xaxis2\": {\"anchor\": \"y2\", \"domain\": [0.55, 1.0], \"title\": {\"text\": \"<b style=\\\"font-size:90%;\\\">Years Since Last Promotion\"}}, \"yaxis\": {\"anchor\": \"x\", \"domain\": [0.0, 1.0]}, \"yaxis2\": {\"anchor\": \"x2\", \"domain\": [0.0, 1.0]}},                        {\"responsive\": true}                    ).then(function(){\n",
       "                            \n",
       "var gd = document.getElementById('aad0a50a-48c8-4ef6-a97d-4a07d0c07e84');\n",
       "var x = new MutationObserver(function (mutations, observer) {{\n",
       "        var display = window.getComputedStyle(gd).display;\n",
       "        if (!display || display === 'none') {{\n",
       "            console.log([gd, 'removed!']);\n",
       "            Plotly.purge(gd);\n",
       "            observer.disconnect();\n",
       "        }}\n",
       "}});\n",
       "\n",
       "// Listen for the removal of the full notebook cells\n",
       "var notebookContainer = gd.closest('#notebook-container');\n",
       "if (notebookContainer) {{\n",
       "    x.observe(notebookContainer, {childList: true});\n",
       "}}\n",
       "\n",
       "// Listen for the clearing of the current output cell\n",
       "var outputEl = gd.closest('.output');\n",
       "if (outputEl) {{\n",
       "    x.observe(outputEl, {childList: true});\n",
       "}}\n",
       "\n",
       "                        })                };                });            </script>        </div>"
      ]
     },
     "metadata": {},
     "output_type": "display_data"
    }
   ],
   "source": [
    "fig=go.Figure()\n",
    "fig=make_subplots(rows=1,cols=2)\n",
    "years1=data.groupby(['YearsInCurrentRole','Attrition'],as_index=False)['Age'].count()\n",
    "years1['Count']=years1['Age']\n",
    "years1.drop(columns='Age',axis=1,inplace=True)\n",
    "fig.add_trace(go.Bar(x=years1[years1['Attrition']=='1']['YearsInCurrentRole'], y=years1[years1['Attrition']=='1']['Count'],name='Attrition',\n",
    "                     text=years1[years1['Attrition']=='1']['Count'],textposition=\"outside\",marker_color='#8FBBAF',showlegend=True),row=1,col=1)\n",
    "fig.add_trace(go.Bar(x=years1[years1['Attrition']=='0']['YearsInCurrentRole'], y=years1[years1['Attrition']=='0']['Count'],name='No attrition',\n",
    "                     text=years1[years1['Attrition']=='0']['Count'],textposition=\"outside\",marker_color='#6B7B8E',showlegend=True),row=1,col=1)\n",
    "fig.update_xaxes(title_text=\"<b style=\\\"font-size:90%;\\\">Years in Current role\", row=1, col=1)\n",
    "\n",
    "years2=data.groupby(['YearsSinceLastPromotion','Attrition'],as_index=False)['Age'].count()\n",
    "years2['Count']=years2['Age']\n",
    "years2.drop(columns='Age',axis=1,inplace=True)\n",
    "fig.add_trace(go.Bar(x=years2[years2['Attrition']=='1']['YearsSinceLastPromotion'], y=years2[years2['Attrition']=='1']['Count'],name='Attrition',\n",
    "                     text=years2[years2['Attrition']=='1']['Count'],textposition=\"outside\", marker_color='#8FBBAF',showlegend=False),row=1,col=2)\n",
    "fig.add_trace(go.Bar(x=years2[years2['Attrition']=='0']['YearsSinceLastPromotion'], y=years2[years2['Attrition']=='0']['Count'],name='No attrition',\n",
    "                     text=years2[years2['Attrition']=='0']['Count'],textposition=\"outside\",marker_color='#6B7B8E',showlegend=False),row=1,col=2)\n",
    "fig.update_xaxes(title_text=\"<b style=\\\"font-size:90%;\\\">Years Since Last Promotion\",row=1, col=2)\n",
    "\n",
    "#fig.update_layout(\n",
    "    #autosize=False,\n",
    "    #width=1000, height=1000,\n",
    "    #margin=dict(l=50, r=50, b=100, t=100, pad=4))"
   ]
  },
  {
   "cell_type": "code",
   "execution_count": 76,
   "metadata": {},
   "outputs": [
    {
     "name": "stdout",
     "output_type": "stream",
     "text": [
      "                            OLS Regression Results                            \n",
      "==============================================================================\n",
      "Dep. Variable:              Attrition   R-squared:                       0.030\n",
      "Model:                            OLS   Adj. R-squared:                  0.029\n",
      "Method:                 Least Squares   F-statistic:                     22.76\n",
      "Date:                Mon, 05 Dec 2022   Prob (F-statistic):           1.85e-10\n",
      "Time:                        18:10:11   Log-Likelihood:                -592.82\n",
      "No. Observations:                1470   AIC:                             1192.\n",
      "Df Residuals:                    1467   BIC:                             1208.\n",
      "Df Model:                           2                                         \n",
      "Covariance Type:            nonrobust                                         \n",
      "===========================================================================================\n",
      "                              coef    std err          t      P>|t|      [0.025      0.975]\n",
      "-------------------------------------------------------------------------------------------\n",
      "const                       0.2290      0.015     15.748      0.000       0.201       0.258\n",
      "YearsInCurrentRole         -0.0207      0.003     -6.623      0.000      -0.027      -0.015\n",
      "YearsSinceLastPromotion     0.0090      0.004      2.556      0.011       0.002       0.016\n",
      "==============================================================================\n",
      "Omnibus:                      417.523   Durbin-Watson:                   1.933\n",
      "Prob(Omnibus):                  0.000   Jarque-Bera (JB):              847.947\n",
      "Skew:                           1.751   Prob(JB):                    7.42e-185\n",
      "Kurtosis:                       4.259   Cond. No.                         9.96\n",
      "==============================================================================\n",
      "\n",
      "Notes:\n",
      "[1] Standard Errors assume that the covariance matrix of the errors is correctly specified.\n"
     ]
    }
   ],
   "source": [
    "#define response variable\n",
    "y = data['Attrition']\n",
    "\n",
    "#define predictor variables\n",
    "x = data[['YearsInCurrentRole', 'YearsSinceLastPromotion']]\n",
    "\n",
    "#add constant to predictor variables\n",
    "x = sm.add_constant(x)\n",
    "\n",
    "#fit regression model\n",
    "model = sm.OLS(y.astype(float), x.astype(float)).fit()\n",
    "\n",
    "#view summary of model fit\n",
    "print(model.summary())"
   ]
  },
  {
   "cell_type": "markdown",
   "metadata": {},
   "source": [
    "<p style='text-align: justify;'>\n",
    "The p-values for both YearsInCurrentRole and YearsSinceLastPromotion are smaller than 0.05 which implies that they do influence attrition.<br>\n",
    "The estimate coefficient of YearsInCurrentRole is less than 0, which means when years in current role increases, the attrition rate increases. In other words, the longer an employee stays in his/her current role, it is more likely that they leave the organization. This could mean that the lack of promotion being offered or unable to recognize employees for the work put forth would play a vital role in an employee's exit.\n",
    "The estimate coefficient of YearsSinceLastPromotion is larger than 0, which means when years since last promotion increases, the attrition rate increases. As a result, we can conclude that employees who weren’t offered promotion relatively earlier will be more likely to leave.\n",
    "</p>"
   ]
  },
  {
   "cell_type": "markdown",
   "metadata": {},
   "source": [
    "<p style='text-align: justify;'>\n",
    "To summarize, so far, we have been able to analyze some variables that may cause attrition rate to be higher. Some of whcih we concluded that the non-monetary aspects of a workplace weigh more for an employee and that the factors for attrition of an employee differ gender wise. And also that employees who weren't offered promotion relatively earlier are more likely to leave the organization. Given that there are various other variables in our dataset that one could consider, it is optimal to build a prediction model to help not just with the employees that are currently working but for all the new data we gather once new employees are onboarded. For this, let us move on to analyze patterns and evaluate if there exist any specfic combination of factors that result in a high attrition rate.\n",
    "</p>"
   ]
  },
  {
   "cell_type": "markdown",
   "metadata": {},
   "source": [
    "## <font color='447EB1'><b> Detect any specific combination of factors that result in high attrition rate </b></font>\n",
    "\n",
    "<p style='text-align: justify;'>\n",
    "For any given company, it's very critical to find out the factors that cause employees to leave the company. Here we will try to identify the most important factors that lead to high attrition for our given company. \n",
    "</p>\n",
    "<p style='text-align: justify;'>\n",
    "We will use regression model to find out the factors that explain the variation in attrition the most. As out target variable, Attrition, is binary, we will use logistic regression.  This regression is suitable when we have Binary Classification as it provides discrete output.\n",
    "</p>\n",
    "\n",
    "<p style='text-align: justify;'>\n",
    "Before we delve into running the model, we need to choose the variables that are most relevant. One issue that we particularly need to be careful of is multicollinearity. Multicollinearity is when there are two or more independent variables correlated with each other. In that case independent variables are not truly \"independent\", hence the whole model falls apart. \n",
    "</p>\n",
    "\n",
    "<p style='text-align: justify;'>\n",
    "So we will look at the correlation matrix to spot the variables that are correlatedd with each other. Our dataset also contains categorical variables so we will inlcude those variables in our correlation matrix.  \n",
    "</p>\n",
    "<p style='text-align: justify;'>\n",
    "Let's build the correlation matrix after taking out the categorical variables.\n",
    "</p>"
   ]
  },
  {
   "cell_type": "code",
   "execution_count": 77,
   "metadata": {},
   "outputs": [
    {
     "data": {
      "image/png": "[encoded data removed]",
      "text/plain": [
       "<Figure size 720x720 with 2 Axes>"
      ]
     },
     "metadata": {
      "needs_background": "light"
     },
     "output_type": "display_data"
    }
   ],
   "source": [
    "#creating copy of the dataset\n",
    "explan_ana = data.copy()\n",
    "\n",
    "#creating a list of numeric variables\n",
    "num_variables = explan_ana[['DailyRate', 'DistanceFromHome (miles)', 'HourlyRate ($)', 'MonthlyRate', 'NumCompaniesWorked', 'SalaryHike (in %)', \n",
    "                            'TotalWorkingYears', 'TrainingTimesLastYear', 'YearsSinceLastPromotion', 'YearsWithCurrManager', 'YearsAtCompany', \n",
    "                            'YearsInCurrentRole', 'Age', 'MonthlyIncome']]\n",
    "\n",
    "#finding correlation for all numerical variables\n",
    "corr_table = round(num_variables.corr(), 2)\n",
    "\n",
    "#plotting the correlation matrix\n",
    "fig, ax = plt.subplots(figsize=(10,10)) \n",
    "sns.heatmap(corr_table, annot=True, cmap=\"crest\", linewidths=.5)\n",
    "plt.show()"
   ]
  },
  {
   "cell_type": "markdown",
   "metadata": {},
   "source": [
    "<p style='text-align: justify;'>\n",
    "We can identify the variables that are highly correlated using the heatmap displayed above. Some variables such as 'Years with Current Manager' and 'Years at Company' have very high correlation. This does makes sense because the more one spends time with their manager, greater is the number of years spent in the company. 'Years with Current Manager' holds more significance because an employee is more likely to leave if 'Years with Current Manager' goes up which may imply the likelihood of not being promoted or negates the probability of role change. Therefore, we drop column 'Years at Company'.\n",
    "</p>\n",
    "\n",
    "<p style='text-align: justify;'>\n",
    "We will drop one of the two variables that have a correlation significantly above .5 and take a call based on judgement to pick one of the two.\n",
    "</p>\n",
    "\n",
    "<p style='text-align: justify;'>\n",
    "    \n",
    "In addition, we also decide on dropping a few other columns. Starting with dropping 'YearsInCurrentRole' as it is highly correlated with the number of years with current manager and years at the company. We also choose to drop 'Age' as it is highly correlated with 'Total Working Years' and the dataset also contains other variables such as 'Total Working Years' and 'Number of companies Worked' which more or less indicate age. Lastly, we also drop 'Monthly Income' which is highly correlated with 'Total Working Years' and the fact that there are other variables such as 'DailyRate' and 'Monthly Rate' which hold the same meaning, thus making the column redundant.\n",
    "</p>\n",
    "\n",
    "#### <font color='4B8AC1'> In summary, we chose to drop the variables </font> - `YearsAtCompany`, `YearsInCurrentRole`, `Age`, `MonthlyIncome`\n",
    "\n",
    "This results in a datset that consists of the following numerical variables for the model we wish to build -\n",
    "\n",
    "`DailyRate`, `DistanceFromHome(miles)`, `HourlyRate($)`, `MonthlyRate`, `NumCompaniesWorked`, `PercentSalaryHike`,\n",
    "`TotalWorkingYears`, `TrainingTimesLastYear`, `YearsSinceLastPromotion`, `YearsWithCurrManager`\n"
   ]
  },
  {
   "cell_type": "code",
   "execution_count": 78,
   "metadata": {},
   "outputs": [
    {
     "data": {
      "image/png": "[encoded data removed]",
      "text/plain": [
       "<Figure size 720x720 with 2 Axes>"
      ]
     },
     "metadata": {
      "needs_background": "light"
     },
     "output_type": "display_data"
    }
   ],
   "source": [
    "# dropping the variables from numerical variable list\n",
    "num_variables = explan_ana[['DailyRate', 'DistanceFromHome (miles)', 'HourlyRate ($)', \n",
    "                     'MonthlyRate', 'NumCompaniesWorked', 'SalaryHike (in %)', \n",
    "                     'TotalWorkingYears', 'TrainingTimesLastYear', \n",
    "                     'YearsSinceLastPromotion', 'YearsWithCurrManager']]\n",
    "# 'YearsAtCompany', 'YearsInCurrentRole', 'Age', 'MonthlyIncome'\n",
    "\n",
    "#creating the correlation matrix for rest of the variables\n",
    "corr_table = round(num_variables.corr(), 2)\n",
    "\n",
    "#displaying the correlation matrix for rest of the variables\n",
    "fig, ax = plt.subplots(figsize=(10,10)) \n",
    "sns.heatmap(corr_table, annot=True, cmap=\"crest\", linewidths=.5)\n",
    "plt.show()\n"
   ]
  },
  {
   "cell_type": "markdown",
   "metadata": {},
   "source": [
    "#### <font color='4B8AC1'> <b> Analyzing variables that could further be removed with an example </b></font>\n",
    "\n",
    "<p style='text-align: justify;'>\n",
    "Furthermore, to help build our model, we require variables that directly contribute to helping us analyze attrition rate. There might exist some variables that may not contribute towards attrition and Department may be one such column.<br>\n",
    "    \n",
    "For the variable 'Department', there exists three sectors in which employees could work in: Sales, Research & Development(R&D), and Human Resources(HR). We start by finding the attrition rates for each of these departments and notice that the variation in attrition rate does not change significantly on basis of the department an employee works in. Therefore, this could be a variable that may not contribute towards finding attrition.\n",
    "</p>"
   ]
  },
  {
   "cell_type": "code",
   "execution_count": 79,
   "metadata": {},
   "outputs": [
    {
     "data": {
      "image/png": "[encoded data removed]",
      "text/plain": [
       "<Figure size 576x288 with 1 Axes>"
      ]
     },
     "metadata": {
      "needs_background": "light"
     },
     "output_type": "display_data"
    }
   ],
   "source": [
    "# Making a group of department\n",
    "\n",
    "dept_group = explan_ana.groupby(by = 'Department')\n",
    "\n",
    "Dept1 = dept_group.get_group('Sales')['Attrition'].value_counts().tolist()\n",
    "Dept2 = dept_group.get_group('R&D')['Attrition'].value_counts().tolist()\n",
    "Dept3 = dept_group.get_group('HR')['Attrition'].value_counts().tolist()\n",
    "\n",
    "# Calculating attrition in each department\n",
    "deptdata = np.array([100*Dept1[1]/Dept1[0], 100*Dept2[1]/Dept2[0], 100*Dept3[1]/Dept3[0]])\n",
    "\n",
    "# Changing the indices of the departments\n",
    "ser = pd.DataFrame(deptdata, index = ['Sales', 'R&D', 'HR'])\n",
    "\n",
    "# Making a bar plot for the \n",
    "axis = ser.plot(kind='bar', y=0, figsize=(8, 4), ylim=[0, 50], color = \"#ACDEAA\");\n",
    "plt.xticks(rotation=360)\n",
    "axis.set_xlabel('Department') # Hide x-axis label\n",
    "axis.set_ylabel('Percentage of Employees Attrited')\n",
    "axis.set_title('Attrition Rates in Departments', fontdict={'fontsize': 20, 'fontweight': 700, 'color': 'black'}, pad=20)\n",
    "\n",
    "# Getting labels for each of the bars in the violation_table\n",
    "for p in axis.patches:\n",
    "    height = p.get_height()\n",
    "    axis.annotate(f'{height:0.2f}%',xy=(p.get_x() + p.get_width() / 2, height), ha='center', va='bottom')\n"
   ]
  },
  {
   "cell_type": "markdown",
   "metadata": {},
   "source": [
    "<p style='text-align: justify;'>\n",
    "In order to be able to find out what factors hold a significant role to help explain the variation in 'Attrition', we start by building a model. We will run logistic regression for all the possible combinations of the variables and capture the Akaike Information Criterion (AIC) score for each regression that we run. The AIC score provides us a way to gauge the goodness-of-fit of our regression model, and at the same time penalizing the model for over-fitting the data. It it was a linear regression model, we would have used R-Square value. But, given that we aim on building a logistic regression, AIC is more appropriate means of measure. A standalone AIC score does not mean much but it's very useful for comparing models. A lower AIC score indicates superior goodness-of-fit and a lesser tendency to over-fit.\n",
    "</p>\n",
    "\n",
    "<p style='text-align: justify;'>\n",
    "Now we are set to run our regression model using the variables that we shortlisted above and capture AIC score for every combination. At the end, we will select the model with the lowest AIC score.\n",
    "</p>"
   ]
  },
  {
   "cell_type": "code",
   "execution_count": 80,
   "metadata": {},
   "outputs": [],
   "source": [
    "# creating a list of categorical variables\n",
    "cat_columns = []\n",
    "for column in explan_ana.columns:\n",
    "    if explan_ana[column].dtype == 'object':\n",
    "        cat_columns.append(column)\n",
    "\n",
    "# labelling the categorical variables as numericals\n",
    "label_encoder = LabelEncoder()\n",
    "for column in cat_columns:\n",
    "    explan_ana[column] = label_encoder.fit_transform(explan_ana[column])\n",
    "    \n",
    "# defining the target variable and the independent variables\n",
    "target_var = explan_ana['Attrition'] \n",
    "ind_vars = explan_ana.drop(['Attrition', 'StandardHours', 'Over18', 'YearsAtCompany', 'YearsInCurrentRole', 'Age', 'MonthlyIncome'], axis=1)\n"
   ]
  },
  {
   "attachments": {
    "58946614-39a8-421e-a756-7cce63d6f982.png": {
     "image/png": "[encoded data removed]"
    },
    "72c11a75-2eea-4fb1-b659-e5e6432d2888.png": {
     "image/png": "[encoded data removed]"
    }
   },
   "cell_type": "markdown",
   "metadata": {},
   "source": [
    "#### <font color='4B8AC1'><b> Finalizing on the variables for the model </b></font>\n",
    "\n",
    "<p style='text-align: justify;'>\n",
    "There are 27 variables which consists of numerical and categorical variables that can affect attrition. Consuming all these variables would result in an overfitting issue for our final logistic regression model. We also would not want to use too few variables as it would then affect the performance of our model. Hence, from our best judgement we finalized on 10 variables that are going to be considered for the model. We now find each of the 10 variables that affect Attrition the most.\n",
    "</p>\n",
    "\n",
    "<p style='text-align: justify;'>\n",
    "We build logistic regression models using a combination of 10 variables from the 27 variables that we have finalized upon. This yields us 843,6285 models. All this data is stored in a csv file, in order to help observe the AIC values for our models easily. We then sorted the models base don their AIC values and select the model with the least AIC value.\n",
    "</p>\n",
    "\n",
    "![image.png](attachment:58946614-39a8-421e-a756-7cce63d6f982.png)\n",
    "\n",
    "Pasted below is a snippet of the table we obtained after sorting the AIC values from the logistic regression models. The columns var1 to var10 mark the variable indices in the dataset we obtain after removing the multicollinearity. The AIC values in the last column gives us the AIC value for the model number marked in the index.\n",
    "\n",
    "![image.png](attachment:72c11a75-2eea-4fb1-b659-e5e6432d2888.png)\n"
   ]
  },
  {
   "cell_type": "code",
   "execution_count": 81,
   "metadata": {},
   "outputs": [],
   "source": [
    "# NOTE: The code below is commented as it is time intensive and can go on for a while. However, the data thus generated is put across in the csv file\n",
    "# as mentioned above.\n",
    "\n",
    "# #running regression on all combinations variable factors and capturing the AIC score for each model\n",
    "# size_x = ind_vars.shape[1]\n",
    "# selec_x = []\n",
    "# aic_table = []\n",
    "# for i1 in range(size_x):\n",
    "#     for i2 in range(i1 + 1, size_x):\n",
    "#         for i3 in range(i2 + 1, size_x):\n",
    "#             for i4 in range(i3 + 1, size_x):\n",
    "#                 for i5 in range(i4 + 1, size_x):\n",
    "#                     for i6 in range(i5 + 1, size_x):\n",
    "#                         for i7 in range(i6 + 1, size_x):\n",
    "#                             for i8 in range(i7 + 1, size_x):\n",
    "#                                 for i9 in range(i8 + 1, size_x):\n",
    "#                                     for i10 in range(i9 + 1, size_x):\n",
    "#                                         selec_x = ind_vars.iloc[:, [i1, i2, i3, i4, i5, i6, i7, i8, i9, i10]]\n",
    "#                                         log_reg = sm.Logit(target_var, selec_x).fit(disp = 0)\n",
    "#                                         aic_table.append([i1, i2, i3, i4, i5, i6, i7, i8, i9, i10, log_reg.aic])\n",
    "                                        \n",
    "# #printing and saving the final output\n",
    "# aic_table1 = pd.DataFrame(aic_table)\n",
    "# aic_table1.to_csv(\"output_10var.csv\")\n",
    "\n",
    "\n",
    "# #reading, sorting in ascending order and printing the output\n",
    "# aic_table = pd.read_csv('output_10var.csv', index_col=0)\n",
    "# aic_table.columns = aic_table.columns.astype(int)\n",
    "# sort_aic_table = aic_table.sort_values(10)\n",
    "# sort_aic_col_names = ['var1', 'var2', 'var3', 'var4', 'var5', 'var6', 'var7', 'var8', 'var9', 'var10', 'AIC values']\n",
    "# sort_aic_table.columns = sort_aic_col_names\n",
    "# sort_aic_table.index.name = 'Model Number'\n",
    "# sort_aic_table.head(10)\n",
    "\n",
    "# #creating a list of independent variables that have lowest AIC\n",
    "# smlest_aic_ind = sort_aic_table.index[0]\n",
    "# aic_list = (aic_table.loc[smlest_aic_ind].values[0:10]).tolist()\n",
    "\n",
    "# #printing the list of independent variables that have lowest AIC\n",
    "# print(ind_vars.iloc[:, aic_list].columns)"
   ]
  },
  {
   "cell_type": "code",
   "execution_count": 82,
   "metadata": {},
   "outputs": [],
   "source": [
    "# hardcoding the independent variables that have lowest AIC\n",
    "ind_vars = explan_ana[['DistanceFromHome (miles)', 'EnvironmentSatisfaction', 'JobInvolvement', 'JobSatisfaction', 'MaritalStatus', \n",
    "                       'NumCompaniesWorked', 'OverTime', 'PerformanceRating', 'TotalWorkingYears', 'YearsSinceLastPromotion']]"
   ]
  },
  {
   "cell_type": "markdown",
   "metadata": {},
   "source": [
    "<p style='text-align: justify;'>\n",
    "The model that has the lowest AIC score contains the following variables that we will use for our prediction:\n",
    "</p>\n",
    "\n",
    "`DistanceFromHome (miles)`, `EnvironmentSatisfaction`, `JobInvolvement`, `JobSatisfaction`, `MaritalStatus`,\n",
    "`NumCompaniesWorked`, `OverTime`, `PerformanceRating`, `TotalWorkingYears`, `YearsSinceLastPromotion`\n"
   ]
  },
  {
   "cell_type": "markdown",
   "metadata": {},
   "source": [
    "### <font color='4B8AC1'><b> Inching towards predicting the likeliness of a given employee to stay </b></font>\n",
    "\n",
    "<p style='text-align: justify;'>\n",
    "For prediction purposes, we will split our data into traning and validation sets. We aim to improve our accuracy score through different methods. Let's start with setting up the model.\n",
    "</p>"
   ]
  },
  {
   "cell_type": "code",
   "execution_count": 83,
   "metadata": {},
   "outputs": [],
   "source": [
    "# defining target variable\n",
    "target_var = explan_ana['Attrition']"
   ]
  },
  {
   "cell_type": "code",
   "execution_count": 84,
   "metadata": {},
   "outputs": [
    {
     "name": "stdout",
     "output_type": "stream",
     "text": [
      "Prediction Accuracy without Balancing Training Data: 86.39%\n",
      "Prediction Accuracy for Attrited Employees is: 30.61%\n",
      "Prediction Accuracy for Non-Attrited Employees is: 97.55%\n",
      "\n",
      "                       PREDICTION REPORT\n",
      "              precision    recall  f1-score   support\n",
      "\n",
      "           0       0.98      0.88      0.92       273\n",
      "           1       0.31      0.71      0.43        21\n",
      "\n",
      "    accuracy                           0.86       294\n",
      "   macro avg       0.64      0.79      0.68       294\n",
      "weighted avg       0.93      0.86      0.89       294\n",
      "\n"
     ]
    }
   ],
   "source": [
    "#setting the split value\n",
    "x_train, x_test, y_train, y_test = train_test_split(ind_vars, target_var, train_size = 0.8, random_state=0)\n",
    "\n",
    "#splitting the data\n",
    "scaler = StandardScaler()\n",
    "x_train = scaler.fit_transform(x_train)\n",
    "x_test = scaler.transform(x_test)\n",
    "\n",
    "#running regression of traning data\n",
    "model = LogisticRegression()\n",
    "model.fit(x_train, y_train)\n",
    "pred = model.predict(x_test)\n",
    "\n",
    "#calculating accuracy and precision scores\n",
    "report = classification_report(pred,y_test, output_dict=True)\n",
    "nonattri_accu = report['0']['precision']\n",
    "attri_accu = report['1']['precision'] \n",
    "\n",
    "#printing accuracy scores\n",
    "print(f'Prediction Accuracy without Balancing Training Data: {round(100*accuracy_score(pred,y_test), 2)}%')\n",
    "print(f'Prediction Accuracy for Attrited Employees is: {round(100*attri_accu, 2)}%')\n",
    "print(f'Prediction Accuracy for Non-Attrited Employees is: {round(100*nonattri_accu, 2)}%')\n",
    " \n",
    "#printing the prediction report\n",
    "print()\n",
    "print('                       PREDICTION REPORT')\n",
    "print(classification_report(pred,y_test))\n"
   ]
  },
  {
   "cell_type": "markdown",
   "metadata": {},
   "source": [
    "<p style='text-align: justify;'>\n",
    "We obtain a whooping accuracy score of 86.4% for the overall model. However, precision of employees who attrited is significantly worse than the precision of employees who did not attrite. Prediction accuracy for attrited Employees is 30.61% and prediction accuracy for non-attrited employees is 97.55%. Thus producing results that are inconsistent and is possibly occuring because our original set has way more observations for employees who did stayed as compared to those employees that left. Thus leading us to have too few data points for the minority class i.e. Employees who Attrited.\n",
    "</p>\n",
    "<p style='text-align: justify;'>\n",
    "To overcome this problem, we will use Synthetic Minority Oversampling Technique (SMOTE) which balances the observations of minority class. \n",
    "</p>"
   ]
  },
  {
   "cell_type": "code",
   "execution_count": 85,
   "metadata": {},
   "outputs": [
    {
     "name": "stdout",
     "output_type": "stream",
     "text": [
      "Prediction Accuracy after Balancing Training Data: 75.85%\n",
      "Prediction Accuracy for Attrited Employees is: 73.47%\n",
      "Prediction Accuracy for Non-Attrited Employees is: 76.33%\n",
      "\n",
      "                       PREDICTION REPORT\n",
      "              precision    recall  f1-score   support\n",
      "\n",
      "           0       0.76      0.94      0.84       200\n",
      "           1       0.73      0.38      0.50        94\n",
      "\n",
      "    accuracy                           0.76       294\n",
      "   macro avg       0.75      0.66      0.67       294\n",
      "weighted avg       0.75      0.76      0.73       294\n",
      "\n"
     ]
    }
   ],
   "source": [
    "# setting the split value\n",
    "x_train, x_test, y_train, y_test = train_test_split(ind_vars, target_var, train_size = 0.8, random_state=0)\n",
    "\n",
    "# splitting the data\n",
    "scaler = StandardScaler()\n",
    "x_train = scaler.fit_transform(x_train)\n",
    "x_test = scaler.transform(x_test)\n",
    "\n",
    "# setting over and under samples\n",
    "over_samp = SMOTE()\n",
    "under_samp = RandomUnderSampler()\n",
    "\n",
    "steps = [('o', over_samp),('u', under_samp)]\n",
    "imbpipeline = imbpipe(steps)\n",
    "x_train, y_train = imbpipeline.fit_resample(x_train, y_train)\n",
    "\n",
    "# running regression on new balanced training data\n",
    "model = LogisticRegression()\n",
    "model.fit(x_train, y_train)\n",
    "pred = model.predict(x_test)\n",
    "\n",
    "# calculating accuracy and precision scores\n",
    "report = classification_report(pred,y_test, output_dict=True)\n",
    "nonattri_accu = report['0']['precision']\n",
    "attri_accu = report['1']['precision'] \n",
    "\n",
    "# printing accuracy scores\n",
    "print(f'Prediction Accuracy after Balancing Training Data: {round(100*accuracy_score(pred,y_test), 2)}%')\n",
    "print(f'Prediction Accuracy for Attrited Employees is: {round(100*attri_accu, 2)}%')\n",
    "print(f'Prediction Accuracy for Non-Attrited Employees is: {round(100*nonattri_accu, 2)}%')\n",
    " \n",
    "# printing the prediction report\n",
    "print()\n",
    "print('                       PREDICTION REPORT')\n",
    "print(classification_report(pred,y_test))"
   ]
  },
  {
   "cell_type": "markdown",
   "metadata": {},
   "source": [
    "<p style='text-align: justify;'>\n",
    "Although, our accuracy has decreased from 86% to 74%, the precision for both types of employees is much closer now. Prediction accuracy for Attrited employees is 73.47% and Prediction accuracy for Non-Attrited employees is 74.29%. \n",
    "</p>\n",
    "<p style='text-align: justify;'>\n",
    "Therefore, the accuracy of 74% is an acceptable outcome. However, we will strive to improve the score by using different split values. For each split value we will run regression multiples times so that the score we get is average across all repetitions for each split value. We will use 30 repetions as 30 is considered as a statistically acceptable sample size.\n",
    "</p>    "
   ]
  },
  {
   "cell_type": "code",
   "execution_count": 86,
   "metadata": {},
   "outputs": [
    {
     "name": "stdout",
     "output_type": "stream",
     "text": [
      "Prediction Accuracies for 30 repetitions of each split value:\n",
      "\n",
      "Prediction Accuracy for 0.65 split is 74.55%\n",
      "Prediction Accuracy for 0.7 split is 76.23%\n",
      "Prediction Accuracy for 0.75 split is 75.24%\n",
      "Prediction Accuracy for 0.8 split is 74.81%\n",
      "Prediction Accuracy for 0.85 split is 73.45%\n"
     ]
    }
   ],
   "source": [
    "# creating list of split values of [0.65, 0.70, 0.75, 0.80, 0.85]\n",
    "split_values = list(range(65, 90, 5))\n",
    "split_values = [x / 100 for x in split_values]\n",
    "\n",
    "\n",
    "# defining variables\n",
    "avg_accu_perc = []\n",
    "accu_score = []\n",
    "\n",
    "# setting repetition number\n",
    "repeat_check = 30\n",
    "\n",
    "# printing header\n",
    "print(f'Prediction Accuracies for {repeat_check} repetitions of each split value:')\n",
    "print()\n",
    "\n",
    "# running loop of split values and repititions\n",
    "for index in range(len(split_values)):\n",
    "    for index2 in range(repeat_check):\n",
    "        x_train, x_test, y_train, y_test = train_test_split(ind_vars, target_var, train_size = split_values[index], random_state=1)\n",
    "\n",
    "        # splitting the data\n",
    "        scaler = StandardScaler()\n",
    "        x_train = scaler.fit_transform(x_train)\n",
    "        x_test = scaler.transform(x_test)\n",
    "\n",
    "        # setting over and under samples\n",
    "        over_samp = SMOTE()\n",
    "        under_samp = RandomUnderSampler()\n",
    "\n",
    "        steps = [('o', over_samp),('u', under_samp)]\n",
    "        imbpipeline = imbpipe(steps)\n",
    "        x_train, y_train = imbpipeline.fit_resample(x_train, y_train)\n",
    "        y_train.value_counts()\n",
    "\n",
    "\n",
    "        # running regression on new balanced training data\n",
    "        model = LogisticRegression()\n",
    "        model.fit(x_train, y_train)\n",
    "        pred = model.predict(x_test)\n",
    "        \n",
    "        # capturing accuracy scores\n",
    "        accu_score.append(accuracy_score(pred,y_test))\n",
    "\n",
    "    # calculating average accuracy score\n",
    "    perc_accuracy = round(100*(sum(accu_score)/len(accu_score)), 2)\n",
    "    \n",
    "    # adding accuracy score to the list\n",
    "    avg_accu_perc.append(perc_accuracy)\n",
    "    \n",
    "    # printing the accuracy scores\n",
    "    print(f'Prediction Accuracy for {split_values[index]} split is {perc_accuracy}%')\n",
    "    accu_score = []"
   ]
  },
  {
   "cell_type": "markdown",
   "metadata": {},
   "source": [
    "<p style='text-align: justify;'>\n",
    "From the results above, we can see that the highest accuracy score we got is from .7 split value which means we will use 70% as the training data and 30% as validation data. We now use .7 as the split value to run the model again. \n",
    "</p>"
   ]
  },
  {
   "cell_type": "markdown",
   "metadata": {},
   "source": [
    "## <font color='447EB1'><b> Predicting likeliness of attrition for a new employee </b></font>\n",
    "\n",
    "<p style='text-align: justify;'>\n",
    "First we will select the data of new employees by selecting employees who have 'YearsAtCompany' = 0 . We will now remove this data from the dataset which we will use to train our logistic regression model. Then, we will find the likeliness of attrition when a new employee joins the company.\n",
    "</p>"
   ]
  },
  {
   "cell_type": "code",
   "execution_count": 87,
   "metadata": {},
   "outputs": [],
   "source": [
    "# Copying the data of independent and target variables for forecast \n",
    "ind_vars_forecast = ind_vars.copy()\n",
    "target_var_forecast = target_var.copy()\n",
    "\n",
    "# Getting the data of new employees\n",
    "new_emp = explan_ana[explan_ana['YearsAtCompany'] == 0]\n",
    "new_emp.shape[0]\n",
    "new_employees = 3\n",
    "\n",
    "# Sampling the data to get the required number of predictions\n",
    "x_forecast = new_emp.sample(n=3)\n",
    "\n",
    "# Selecting the variables that affect the prediction and scaling them\n",
    "x_forecast = ind_vars.loc[x_forecast.index]\n",
    "\n",
    "# Dropping the forecast data from the original dataset\n",
    "ind_vars_forecast.drop(index = x_forecast.index, inplace = True)\n",
    "target_var_forecast.drop(index = x_forecast.index, inplace = True)\n",
    "ind_vars_forecast.reset_index(inplace = True, drop=True)\n",
    "target_var_forecast.reset_index(inplace = True, drop=True)"
   ]
  },
  {
   "cell_type": "markdown",
   "metadata": {},
   "source": [
    "#### <font color='4B8AC1'> <b> Building a logistic regression model for prediction </b></font>"
   ]
  },
  {
   "cell_type": "code",
   "execution_count": 88,
   "metadata": {},
   "outputs": [
    {
     "ename": "NameError",
     "evalue": "name 'avg_accu_perc_ser' is not defined",
     "output_type": "error",
     "traceback": [
      "\u001b[1;31m---------------------------------------------------------------------------\u001b[0m",
      "\u001b[1;31mNameError\u001b[0m                                 Traceback (most recent call last)",
      "Input \u001b[1;32mIn [88]\u001b[0m, in \u001b[0;36m<cell line: 2>\u001b[1;34m()\u001b[0m\n\u001b[0;32m      1\u001b[0m \u001b[38;5;66;03m# capturing the optimal split value based on accuracy score\u001b[39;00m\n\u001b[1;32m----> 2\u001b[0m optimal_split_value \u001b[38;5;241m=\u001b[39m \u001b[43mavg_accu_perc_ser\u001b[49m[\u001b[38;5;241m0\u001b[39m]\u001b[38;5;241m.\u001b[39midxmax()\n\u001b[0;32m      3\u001b[0m x_train, x_test, y_train, y_test \u001b[38;5;241m=\u001b[39m train_test_split(ind_vars_forecast, target_var_forecast, train_size \u001b[38;5;241m=\u001b[39m optimal_split_value, random_state\u001b[38;5;241m=\u001b[39m\u001b[38;5;241m1\u001b[39m)\n\u001b[0;32m      5\u001b[0m \u001b[38;5;66;03m# splitting the data\u001b[39;00m\n",
      "\u001b[1;31mNameError\u001b[0m: name 'avg_accu_perc_ser' is not defined"
     ]
    }
   ],
   "source": [
    "# capturing the optimal split value based on accuracy score\n",
    "optimal_split_value = avg_accu_perc_ser[0].idxmax()\n",
    "x_train, x_test, y_train, y_test = train_test_split(ind_vars_forecast, target_var_forecast, train_size = optimal_split_value, random_state=1)\n",
    "\n",
    "# splitting the data\n",
    "scaler = StandardScaler()\n",
    "x_train = scaler.fit_transform(x_train)\n",
    "x_test = scaler.transform(x_test)\n",
    "\n",
    "# setting over and under samples\n",
    "over = SMOTE(random_state=1)\n",
    "under = RandomUnderSampler(random_state=1)\n",
    "\n",
    "steps = [('o', over),('u', under)]\n",
    "imbpipeline = imbpipe(steps)\n",
    "x_train, y_train = imbpipeline.fit_resample(x_train, y_train)\n",
    "y_train.value_counts()\n",
    "\n",
    "# running regression on new balanced training data\n",
    "model = LogisticRegression()\n",
    "model.fit(x_train, y_train)\n",
    "pred = model.predict(x_test)\n",
    "\n",
    "# calculating and printing accuracy score\n",
    "perc_accuracy = round(100*accuracy_score(pred,y_test), 2)\n",
    "print(f'Prediction Accuracy for this logistic regression model is {perc_accuracy}%')\n",
    "print()\n",
    "\n",
    "# Predicting whether the employee leaves the company or stays\n",
    "x_forecast = scaler.transform(x_forecast)\n",
    "y_forecast = model.predict(x_forecast)\n",
    "\n",
    "for index in range(len(y_forecast)):\n",
    "    if(y_forecast[index] == 0):\n",
    "        print(f\"New employee number {index+1} is {round(100*nonattri_accu, 2)}% likely to not leave the company.\")\n",
    "    elif(y_forecast[index] == 1):\n",
    "        print(f\"New employee number {index+1} is {round(100*attri_accu, 2)}% likely to leave the company.\")"
   ]
  },
  {
   "cell_type": "markdown",
   "metadata": {},
   "source": [
    "<p style='text-align: justify;'>\n",
    "After building this logistic regression model, we can predict the likeliness of a new employee to get attrited. From the analysis we have done earlier, we concluded that non-monetary factors like JobInvolvement, StockOptionLevel, YearsWithCurrManager, JobSatisfaction, and BusinessTravel affect attrition the most. Also, the 10 factors that we found to affect attrition the most are: DistanceFromHome (miles), EnvironmentSatisfaction, JobInvolvement, JobSatisfaction, MaritalStatus, NumCompaniesWorked, OverTime, PerformanceRating, TotalWorkingYears, and YearsSinceLastPromotion. \n",
    "</p>\n",
    "<p style='text-align: justify;'>\n",
    "From the findings above and the prediction recieved for the factors that affect attrition for a new hire, we observe that the columns JobInvolvement and JobSatisfaction overlap. Thus, this may suggest that it is of utmost importance that the organization acts on it with haste. Which means that it would be better, if the organization engages its employees more and be open to continuous feedback evaulation to help achieve a better state with respect to involvement of each individual in their job. Additionally, in order to improve the job satisfaction rate among its employees, the organization can reiterate the skills of each individual and try to match if they are in alignment with the project at their current disposal, and if not, try to restructure teams accordingly. We anticipate that once these two factors are attended to, the attrition rate of the organization would come down signficantly which leaves room for more improvements. By doing so, it doesnt just decrease the attrition but also promotoes an open work place setting where the company is seen to constantly strive to perform better by hearing out their employees. \n",
    "</p>"
   ]
  }
 ],
 "metadata": {
  "colab": {
   "collapsed_sections": [],
   "provenance": []
  },
  "kernelspec": {
   "display_name": "Python 3",
   "language": "python",
   "name": "python3"
  },
  "language_info": {
   "codemirror_mode": {
    "name": "ipython",
    "version": 3
   },
   "file_extension": ".py",
   "mimetype": "text/x-python",
   "name": "python",
   "nbconvert_exporter": "python",
   "pygments_lexer": "ipython3",
   "version": "3.8.3"
  }
 },
 "nbformat": 4,
 "nbformat_minor": 4
}
